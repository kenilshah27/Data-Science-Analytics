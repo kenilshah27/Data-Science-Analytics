{
 "cells": [
  {
   "cell_type": "code",
   "execution_count": 1,
   "metadata": {
    "_cell_guid": "b1076dfc-b9ad-4769-8c92-a6c4dae69d19",
    "_uuid": "8f2839f25d086af736a60e9eeb907d3b93b6e0e5"
   },
   "outputs": [
    {
     "name": "stderr",
     "output_type": "stream",
     "text": [
      "Using TensorFlow backend.\n"
     ]
    },
    {
     "name": "stdout",
     "output_type": "stream",
     "text": [
      "['Admission_Predict_Ver1.1.csv', 'Admission_Predict.csv']\n"
     ]
    }
   ],
   "source": [
    "# This Python 3 environment comes with many helpful analytics libraries installed\n",
    "# It is defined by the kaggle/python docker image: https://github.com/kaggle/docker-python\n",
    "# For example, here's several helpful packages to load in \n",
    "\n",
    "import numpy as np # linear algebra\n",
    "import pandas as pd # data processing, CSV file I/O (e.g. pd.read_csv)\n",
    "import matplotlib.pyplot as plt\n",
    "import seaborn as sns\n",
    "from sklearn.model_selection import train_test_split\n",
    "from sklearn.linear_model import LogisticRegression\n",
    "from sklearn.svm import SVC\n",
    "from sklearn.tree import DecisionTreeClassifier\n",
    "from sklearn.ensemble import RandomForestClassifier\n",
    "from sklearn.naive_bayes import GaussianNB\n",
    "from sklearn.neighbors import KNeighborsClassifier\n",
    "from sklearn.decomposition import PCA\n",
    "import keras\n",
    "from keras.models import Sequential  \n",
    "from keras.layers.core import Dense\n",
    "from xgboost import XGBClassifier\n",
    "\n",
    "from sklearn.metrics import roc_curve,confusion_matrix,precision_score,recall_score,classification_report\n",
    "\n",
    "# Input data files are available in the \"../input/\" directory.\n",
    "# For example, running this (by clicking run or pressing Shift+Enter) will list the files in the input directory\n",
    "\n",
    "import os\n",
    "print(os.listdir(\"../input\"))\n",
    "\n",
    "# Any results you write to the current directory are saved as output."
   ]
  },
  {
   "cell_type": "markdown",
   "metadata": {
    "_cell_guid": "79c7e3d0-c299-4dcb-8224-4455121ee9b0",
    "_uuid": "d629ff2d2480ee46fbb7e2d37f6b5fab8052498a",
    "collapsed": true
   },
   "source": [
    "Find the Exploratory Analysis and the Regression approach of this dataset [here](https://www.kaggle.com/kenil020/graduate-admission-eda-and-regression/notebook)\n",
    ".Now we will look at the Classification approach to the dataset."
   ]
  },
  {
   "cell_type": "markdown",
   "metadata": {
    "_uuid": "6487a09d704969efd4b95e1c2a9a003e8e4af073"
   },
   "source": [
    "# **Classification**"
   ]
  },
  {
   "cell_type": "markdown",
   "metadata": {
    "_uuid": "5da8af6c70111f9d0a5589bd5fa32e319247327b"
   },
   "source": [
    "Preparing the dataset i.e. Converting the continuous variable Chance of Admit into a discrete variable."
   ]
  },
  {
   "cell_type": "code",
   "execution_count": 2,
   "metadata": {
    "_uuid": "f1f897dc2dadbdaed1990f11b0020a91f7787d73"
   },
   "outputs": [
    {
     "data": {
      "text/html": [
       "<div>\n",
       "<style scoped>\n",
       "    .dataframe tbody tr th:only-of-type {\n",
       "        vertical-align: middle;\n",
       "    }\n",
       "\n",
       "    .dataframe tbody tr th {\n",
       "        vertical-align: top;\n",
       "    }\n",
       "\n",
       "    .dataframe thead th {\n",
       "        text-align: right;\n",
       "    }\n",
       "</style>\n",
       "<table border=\"1\" class=\"dataframe\">\n",
       "  <thead>\n",
       "    <tr style=\"text-align: right;\">\n",
       "      <th></th>\n",
       "      <th>Serial No.</th>\n",
       "      <th>GRE Score</th>\n",
       "      <th>TOEFL Score</th>\n",
       "      <th>University Rating</th>\n",
       "      <th>SOP</th>\n",
       "      <th>LOR</th>\n",
       "      <th>CGPA</th>\n",
       "      <th>Research</th>\n",
       "      <th>Chance of Admit</th>\n",
       "    </tr>\n",
       "  </thead>\n",
       "  <tbody>\n",
       "    <tr>\n",
       "      <th>0</th>\n",
       "      <td>1</td>\n",
       "      <td>337</td>\n",
       "      <td>118</td>\n",
       "      <td>4</td>\n",
       "      <td>4.5</td>\n",
       "      <td>4.5</td>\n",
       "      <td>9.65</td>\n",
       "      <td>1</td>\n",
       "      <td>0.92</td>\n",
       "    </tr>\n",
       "    <tr>\n",
       "      <th>1</th>\n",
       "      <td>2</td>\n",
       "      <td>324</td>\n",
       "      <td>107</td>\n",
       "      <td>4</td>\n",
       "      <td>4.0</td>\n",
       "      <td>4.5</td>\n",
       "      <td>8.87</td>\n",
       "      <td>1</td>\n",
       "      <td>0.76</td>\n",
       "    </tr>\n",
       "    <tr>\n",
       "      <th>2</th>\n",
       "      <td>3</td>\n",
       "      <td>316</td>\n",
       "      <td>104</td>\n",
       "      <td>3</td>\n",
       "      <td>3.0</td>\n",
       "      <td>3.5</td>\n",
       "      <td>8.00</td>\n",
       "      <td>1</td>\n",
       "      <td>0.72</td>\n",
       "    </tr>\n",
       "    <tr>\n",
       "      <th>3</th>\n",
       "      <td>4</td>\n",
       "      <td>322</td>\n",
       "      <td>110</td>\n",
       "      <td>3</td>\n",
       "      <td>3.5</td>\n",
       "      <td>2.5</td>\n",
       "      <td>8.67</td>\n",
       "      <td>1</td>\n",
       "      <td>0.80</td>\n",
       "    </tr>\n",
       "    <tr>\n",
       "      <th>4</th>\n",
       "      <td>5</td>\n",
       "      <td>314</td>\n",
       "      <td>103</td>\n",
       "      <td>2</td>\n",
       "      <td>2.0</td>\n",
       "      <td>3.0</td>\n",
       "      <td>8.21</td>\n",
       "      <td>0</td>\n",
       "      <td>0.65</td>\n",
       "    </tr>\n",
       "  </tbody>\n",
       "</table>\n",
       "</div>"
      ],
      "text/plain": [
       "   Serial No.  GRE Score        ...         Research  Chance of Admit \n",
       "0           1        337        ...                1              0.92\n",
       "1           2        324        ...                1              0.76\n",
       "2           3        316        ...                1              0.72\n",
       "3           4        322        ...                1              0.80\n",
       "4           5        314        ...                0              0.65\n",
       "\n",
       "[5 rows x 9 columns]"
      ]
     },
     "execution_count": 2,
     "metadata": {},
     "output_type": "execute_result"
    }
   ],
   "source": [
    "dataset = pd.read_csv('../input/Admission_Predict_Ver1.1.csv')\n",
    "dataset.head()"
   ]
  },
  {
   "cell_type": "markdown",
   "metadata": {
    "_uuid": "ac8adb39dbc1635a72817a2b5432e5a00cc85625"
   },
   "source": [
    "Considering the Acceptance Rate of the college is 20%. We would take the Chance of Admit at the 20th percentile as our threshold. Taking 20% because that is what i got when i looked for the college admission rate on google."
   ]
  },
  {
   "cell_type": "code",
   "execution_count": 3,
   "metadata": {
    "_uuid": "8fe8b8425ba970adf8de514cb2a3a2a8058bc91e"
   },
   "outputs": [
    {
     "data": {
      "text/html": [
       "<div>\n",
       "<style scoped>\n",
       "    .dataframe tbody tr th:only-of-type {\n",
       "        vertical-align: middle;\n",
       "    }\n",
       "\n",
       "    .dataframe tbody tr th {\n",
       "        vertical-align: top;\n",
       "    }\n",
       "\n",
       "    .dataframe thead th {\n",
       "        text-align: right;\n",
       "    }\n",
       "</style>\n",
       "<table border=\"1\" class=\"dataframe\">\n",
       "  <thead>\n",
       "    <tr style=\"text-align: right;\">\n",
       "      <th></th>\n",
       "      <th>Serial No.</th>\n",
       "      <th>GRE Score</th>\n",
       "      <th>TOEFL Score</th>\n",
       "      <th>University Rating</th>\n",
       "      <th>SOP</th>\n",
       "      <th>LOR</th>\n",
       "      <th>CGPA</th>\n",
       "      <th>Research</th>\n",
       "      <th>Chance of Admit</th>\n",
       "    </tr>\n",
       "  </thead>\n",
       "  <tbody>\n",
       "    <tr>\n",
       "      <th>365</th>\n",
       "      <td>366</td>\n",
       "      <td>330</td>\n",
       "      <td>114</td>\n",
       "      <td>4</td>\n",
       "      <td>4.5</td>\n",
       "      <td>3.0</td>\n",
       "      <td>9.17</td>\n",
       "      <td>1</td>\n",
       "      <td>0.86</td>\n",
       "    </tr>\n",
       "  </tbody>\n",
       "</table>\n",
       "</div>"
      ],
      "text/plain": [
       "     Serial No.  GRE Score        ...         Research  Chance of Admit \n",
       "365         366        330        ...                1              0.86\n",
       "\n",
       "[1 rows x 9 columns]"
      ]
     },
     "execution_count": 3,
     "metadata": {},
     "output_type": "execute_result"
    }
   ],
   "source": [
    "dataset.sort_values(by = 'Chance of Admit ',ascending = False).head(int(20/100*len(dataset)))[99:]\n",
    "# 20% is 100 students according to our data."
   ]
  },
  {
   "cell_type": "markdown",
   "metadata": {
    "_uuid": "d262a97a3373e13e552ccaee173bb159e665d35a"
   },
   "source": [
    "So lets say we take our threshold as 0.80 for the dataset."
   ]
  },
  {
   "cell_type": "code",
   "execution_count": 4,
   "metadata": {
    "_uuid": "269fd192a2b666df4a0da5b29d241ac56db6ab90"
   },
   "outputs": [
    {
     "data": {
      "text/html": [
       "<div>\n",
       "<style scoped>\n",
       "    .dataframe tbody tr th:only-of-type {\n",
       "        vertical-align: middle;\n",
       "    }\n",
       "\n",
       "    .dataframe tbody tr th {\n",
       "        vertical-align: top;\n",
       "    }\n",
       "\n",
       "    .dataframe thead th {\n",
       "        text-align: right;\n",
       "    }\n",
       "</style>\n",
       "<table border=\"1\" class=\"dataframe\">\n",
       "  <thead>\n",
       "    <tr style=\"text-align: right;\">\n",
       "      <th></th>\n",
       "      <th>Serial No.</th>\n",
       "      <th>GRE Score</th>\n",
       "      <th>TOEFL Score</th>\n",
       "      <th>University Rating</th>\n",
       "      <th>SOP</th>\n",
       "      <th>LOR</th>\n",
       "      <th>CGPA</th>\n",
       "      <th>Research</th>\n",
       "      <th>Chance of Admit</th>\n",
       "      <th>Admit</th>\n",
       "    </tr>\n",
       "  </thead>\n",
       "  <tbody>\n",
       "    <tr>\n",
       "      <th>0</th>\n",
       "      <td>1</td>\n",
       "      <td>337</td>\n",
       "      <td>118</td>\n",
       "      <td>4</td>\n",
       "      <td>4.5</td>\n",
       "      <td>4.5</td>\n",
       "      <td>9.65</td>\n",
       "      <td>1</td>\n",
       "      <td>0.92</td>\n",
       "      <td>1</td>\n",
       "    </tr>\n",
       "    <tr>\n",
       "      <th>1</th>\n",
       "      <td>2</td>\n",
       "      <td>324</td>\n",
       "      <td>107</td>\n",
       "      <td>4</td>\n",
       "      <td>4.0</td>\n",
       "      <td>4.5</td>\n",
       "      <td>8.87</td>\n",
       "      <td>1</td>\n",
       "      <td>0.76</td>\n",
       "      <td>0</td>\n",
       "    </tr>\n",
       "    <tr>\n",
       "      <th>2</th>\n",
       "      <td>3</td>\n",
       "      <td>316</td>\n",
       "      <td>104</td>\n",
       "      <td>3</td>\n",
       "      <td>3.0</td>\n",
       "      <td>3.5</td>\n",
       "      <td>8.00</td>\n",
       "      <td>1</td>\n",
       "      <td>0.72</td>\n",
       "      <td>0</td>\n",
       "    </tr>\n",
       "    <tr>\n",
       "      <th>3</th>\n",
       "      <td>4</td>\n",
       "      <td>322</td>\n",
       "      <td>110</td>\n",
       "      <td>3</td>\n",
       "      <td>3.5</td>\n",
       "      <td>2.5</td>\n",
       "      <td>8.67</td>\n",
       "      <td>1</td>\n",
       "      <td>0.80</td>\n",
       "      <td>1</td>\n",
       "    </tr>\n",
       "    <tr>\n",
       "      <th>4</th>\n",
       "      <td>5</td>\n",
       "      <td>314</td>\n",
       "      <td>103</td>\n",
       "      <td>2</td>\n",
       "      <td>2.0</td>\n",
       "      <td>3.0</td>\n",
       "      <td>8.21</td>\n",
       "      <td>0</td>\n",
       "      <td>0.65</td>\n",
       "      <td>0</td>\n",
       "    </tr>\n",
       "  </tbody>\n",
       "</table>\n",
       "</div>"
      ],
      "text/plain": [
       "   Serial No.  GRE Score  TOEFL Score  ...    Research  Chance of Admit   Admit\n",
       "0           1        337          118  ...           1              0.92      1\n",
       "1           2        324          107  ...           1              0.76      0\n",
       "2           3        316          104  ...           1              0.72      0\n",
       "3           4        322          110  ...           1              0.80      1\n",
       "4           5        314          103  ...           0              0.65      0\n",
       "\n",
       "[5 rows x 10 columns]"
      ]
     },
     "execution_count": 4,
     "metadata": {},
     "output_type": "execute_result"
    }
   ],
   "source": [
    "dataset['Admit'] = dataset['Chance of Admit '].apply(lambda x: 1 if x >= 0.80 else 0 )\n",
    "dataset.head() # Required Dataset"
   ]
  },
  {
   "cell_type": "markdown",
   "metadata": {
    "_uuid": "ad0c564c896ff6d7853c439a39b9b829fafd024c"
   },
   "source": [
    "Let us now remove the columns that are not required and then rename few columns"
   ]
  },
  {
   "cell_type": "code",
   "execution_count": 5,
   "metadata": {
    "_uuid": "6046ea7440ba2f4ed7c31c3204e6e8926a01558b"
   },
   "outputs": [
    {
     "data": {
      "text/html": [
       "<div>\n",
       "<style scoped>\n",
       "    .dataframe tbody tr th:only-of-type {\n",
       "        vertical-align: middle;\n",
       "    }\n",
       "\n",
       "    .dataframe tbody tr th {\n",
       "        vertical-align: top;\n",
       "    }\n",
       "\n",
       "    .dataframe thead th {\n",
       "        text-align: right;\n",
       "    }\n",
       "</style>\n",
       "<table border=\"1\" class=\"dataframe\">\n",
       "  <thead>\n",
       "    <tr style=\"text-align: right;\">\n",
       "      <th></th>\n",
       "      <th>GRE</th>\n",
       "      <th>TOEFL</th>\n",
       "      <th>University Rating</th>\n",
       "      <th>SOP</th>\n",
       "      <th>LOR</th>\n",
       "      <th>CGPA</th>\n",
       "      <th>Research</th>\n",
       "      <th>Admit</th>\n",
       "    </tr>\n",
       "  </thead>\n",
       "  <tbody>\n",
       "    <tr>\n",
       "      <th>0</th>\n",
       "      <td>337</td>\n",
       "      <td>118</td>\n",
       "      <td>4</td>\n",
       "      <td>4.5</td>\n",
       "      <td>4.5</td>\n",
       "      <td>9.65</td>\n",
       "      <td>1</td>\n",
       "      <td>1</td>\n",
       "    </tr>\n",
       "    <tr>\n",
       "      <th>1</th>\n",
       "      <td>324</td>\n",
       "      <td>107</td>\n",
       "      <td>4</td>\n",
       "      <td>4.0</td>\n",
       "      <td>4.5</td>\n",
       "      <td>8.87</td>\n",
       "      <td>1</td>\n",
       "      <td>0</td>\n",
       "    </tr>\n",
       "    <tr>\n",
       "      <th>2</th>\n",
       "      <td>316</td>\n",
       "      <td>104</td>\n",
       "      <td>3</td>\n",
       "      <td>3.0</td>\n",
       "      <td>3.5</td>\n",
       "      <td>8.00</td>\n",
       "      <td>1</td>\n",
       "      <td>0</td>\n",
       "    </tr>\n",
       "    <tr>\n",
       "      <th>3</th>\n",
       "      <td>322</td>\n",
       "      <td>110</td>\n",
       "      <td>3</td>\n",
       "      <td>3.5</td>\n",
       "      <td>2.5</td>\n",
       "      <td>8.67</td>\n",
       "      <td>1</td>\n",
       "      <td>1</td>\n",
       "    </tr>\n",
       "    <tr>\n",
       "      <th>4</th>\n",
       "      <td>314</td>\n",
       "      <td>103</td>\n",
       "      <td>2</td>\n",
       "      <td>2.0</td>\n",
       "      <td>3.0</td>\n",
       "      <td>8.21</td>\n",
       "      <td>0</td>\n",
       "      <td>0</td>\n",
       "    </tr>\n",
       "  </tbody>\n",
       "</table>\n",
       "</div>"
      ],
      "text/plain": [
       "   GRE  TOEFL  University Rating  SOP  LOR  CGPA  Research  Admit\n",
       "0  337    118                  4  4.5  4.5  9.65         1      1\n",
       "1  324    107                  4  4.0  4.5  8.87         1      0\n",
       "2  316    104                  3  3.0  3.5  8.00         1      0\n",
       "3  322    110                  3  3.5  2.5  8.67         1      1\n",
       "4  314    103                  2  2.0  3.0  8.21         0      0"
      ]
     },
     "execution_count": 5,
     "metadata": {},
     "output_type": "execute_result"
    }
   ],
   "source": [
    "dataset.drop(['Serial No.','Chance of Admit '],axis = 1,inplace = True)\n",
    "dataset.columns = ['GRE','TOEFL','University Rating','SOP','LOR','CGPA','Research','Admit']\n",
    "dataset.head()"
   ]
  },
  {
   "cell_type": "markdown",
   "metadata": {
    "_uuid": "3c243b03c513f61ce5230c7891cbd00bf824f950"
   },
   "source": [
    "Lets dive straight into it with our first classification model."
   ]
  },
  {
   "cell_type": "markdown",
   "metadata": {
    "_uuid": "811f387f88d18037d5fa91b152a5ac0f9256bd09"
   },
   "source": [
    "Before that we would look at the correlation matrix"
   ]
  },
  {
   "cell_type": "code",
   "execution_count": 6,
   "metadata": {
    "_uuid": "395ffc606e0475760df17bf7b80aea79d5abb430"
   },
   "outputs": [
    {
     "data": {
      "text/plain": [
       "<matplotlib.axes._subplots.AxesSubplot at 0x7f89b3b12710>"
      ]
     },
     "execution_count": 6,
     "metadata": {},
     "output_type": "execute_result"
    },
    {
     "data": {
      "image/png": "[encoded data removed]",
      "text/plain": [
       "<Figure size 1080x720 with 2 Axes>"
      ]
     },
     "metadata": {},
     "output_type": "display_data"
    }
   ],
   "source": [
    "corr_matrix = dataset.corr()\n",
    "plt.rcParams['figure.figsize'] = 15,10\n",
    "sns.heatmap(corr_matrix,annot = True)"
   ]
  },
  {
   "cell_type": "markdown",
   "metadata": {
    "_uuid": "2e2a5d7f1c7dd11fce687bde8f41f7b90524fefe"
   },
   "source": [
    "Let us now split the dataset into train and test for our Classification models."
   ]
  },
  {
   "cell_type": "code",
   "execution_count": 7,
   "metadata": {
    "_uuid": "d6118b0f54c27168013607b179d37fd36612769b"
   },
   "outputs": [
    {
     "data": {
      "text/plain": [
       "array([0, 0, 0, 1, 1, 1, 0, 0, 0, 1, 1, 1, 1, 0, 0, 0, 0, 0, 0, 1, 0, 0,\n",
       "       1, 0, 1, 0, 0, 1, 0, 0, 0, 1, 1, 0, 0, 1, 0, 0, 0, 0, 0, 1, 0, 1,\n",
       "       0, 0, 0, 0, 0, 0, 1, 0, 0, 1, 0, 0, 0, 1, 0, 1, 0, 0, 1, 0, 0, 0,\n",
       "       1, 1, 0, 0, 0, 0, 1, 0, 0, 0, 0, 0, 1, 0, 1, 0, 0, 0, 0, 0, 0, 0,\n",
       "       0, 0, 0, 0, 0, 0, 0, 1, 0, 0, 0, 1])"
      ]
     },
     "execution_count": 7,
     "metadata": {},
     "output_type": "execute_result"
    }
   ],
   "source": [
    "X = dataset.iloc[:,:-1].values\n",
    "Y = dataset.iloc[:,7].values\n",
    "train_X,test_X,train_Y,test_Y = train_test_split(X,Y,test_size = 0.2,random_state = 27)\n",
    "test_Y"
   ]
  },
  {
   "cell_type": "markdown",
   "metadata": {
    "_uuid": "21b72212cc2d8493ad9d99cc631036a7254ac6c7"
   },
   "source": [
    "Some metrics we will look at to check the accuracy.\n",
    "1. Precision = TP /(TP + FP)\n",
    "2. Recall = TP/(TP + FN)\n",
    "3. Classification Report. Tells us about the Precision, Recall and F1 score.\n",
    "3. Confusion Matrix\n",
    "4. Accuracy of correct prediction = (TP  + TN)/(TP + FP + TN + FN)\n",
    "5. ROC Curve"
   ]
  },
  {
   "cell_type": "markdown",
   "metadata": {
    "_uuid": "421970d31364df89ad34ab2da0b249350016c8fb"
   },
   "source": [
    "## **Logistic Regression**"
   ]
  },
  {
   "cell_type": "markdown",
   "metadata": {
    "_uuid": "0a4f7e929ea9f330422638a989af2dc3ec72d981"
   },
   "source": [
    "### ***Training the Model***"
   ]
  },
  {
   "cell_type": "code",
   "execution_count": 8,
   "metadata": {
    "_uuid": "473ed36a1dc44ed9d2a6aaf2b2e297626439e1d0"
   },
   "outputs": [
    {
     "name": "stderr",
     "output_type": "stream",
     "text": [
      "/opt/conda/lib/python3.6/site-packages/sklearn/linear_model/logistic.py:433: FutureWarning: Default solver will be changed to 'lbfgs' in 0.22. Specify a solver to silence this warning.\n",
      "  FutureWarning)\n"
     ]
    },
    {
     "data": {
      "text/plain": [
       "LogisticRegression(C=1.0, class_weight=None, dual=False, fit_intercept=True,\n",
       "          intercept_scaling=1, max_iter=100, multi_class='warn',\n",
       "          n_jobs=None, penalty='l2', random_state=0, solver='warn',\n",
       "          tol=0.0001, verbose=0, warm_start=False)"
      ]
     },
     "execution_count": 8,
     "metadata": {},
     "output_type": "execute_result"
    }
   ],
   "source": [
    "model_logistic = LogisticRegression(random_state = 0)\n",
    "model_logistic.fit(train_X,train_Y)"
   ]
  },
  {
   "cell_type": "markdown",
   "metadata": {
    "_uuid": "4139ee014ed2a498f49193b8581d88cb13b8d0a3"
   },
   "source": [
    "### ***Predicting the Outcome***"
   ]
  },
  {
   "cell_type": "code",
   "execution_count": 9,
   "metadata": {
    "_uuid": "d65e9e82e72069e81c9788e919e76aa8ba2c1e6c"
   },
   "outputs": [],
   "source": [
    "pred_logistic = model_logistic.predict(test_X)"
   ]
  },
  {
   "cell_type": "markdown",
   "metadata": {
    "_uuid": "dd7d8dcdb65f25043ce9fff252f8b33c2706a005"
   },
   "source": [
    "### ***Checking for Accuracy***"
   ]
  },
  {
   "cell_type": "code",
   "execution_count": 10,
   "metadata": {
    "_uuid": "67cb0a8c0d27451b92ce0ed2e7c46f42400577cc"
   },
   "outputs": [
    {
     "name": "stdout",
     "output_type": "stream",
     "text": [
      "Precision Score :  0.8275862068965517\n",
      "Recall Score :  0.8571428571428571\n",
      "Classification Report: \n",
      "              precision    recall  f1-score   support\n",
      "\n",
      "           0       0.94      0.93      0.94        72\n",
      "           1       0.83      0.86      0.84        28\n",
      "\n",
      "   micro avg       0.91      0.91      0.91       100\n",
      "   macro avg       0.89      0.89      0.89       100\n",
      "weighted avg       0.91      0.91      0.91       100\n",
      "\n",
      "Accuracy for Test:  0.91\n",
      "Accuracy for Train:  0.9025\n"
     ]
    },
    {
     "data": {
      "image/png": "[encoded data removed]",
      "text/plain": [
       "<Figure size 720x720 with 2 Axes>"
      ]
     },
     "metadata": {},
     "output_type": "display_data"
    },
    {
     "data": {
      "image/png": "[encoded data removed]",
      "text/plain": [
       "<Figure size 720x720 with 1 Axes>"
      ]
     },
     "metadata": {},
     "output_type": "display_data"
    }
   ],
   "source": [
    "#Precision\n",
    "print(\"Precision Score : \",precision_score(test_Y,pred_logistic))\n",
    "\n",
    "#Recall\n",
    "print(\"Recall Score : \",recall_score(test_Y,pred_logistic))\n",
    "\n",
    "#Confusion Matrix\n",
    "cm_logistic = confusion_matrix(test_Y,pred_logistic)\n",
    "\n",
    "#Classification Report\n",
    "print(\"Classification Report: \")\n",
    "print(classification_report(test_Y,pred_logistic))\n",
    "#Accuracy\n",
    "print(\"Accuracy for Test: \",(cm_logistic[0,0] + cm_logistic[1,1])/\n",
    "      (cm_logistic[0,0] + cm_logistic[1,1] + cm_logistic[0,1] + cm_logistic[1,0]))\n",
    "\n",
    "plt.rcParams['figure.figsize'] = 10,10\n",
    "sns.heatmap(cm_logistic,annot = True)\n",
    "plt.title('Test Dataset')\n",
    "plt.ylabel('Actual')\n",
    "plt.xlabel('Predicted')\n",
    "\n",
    "pred_logistic_train = model_logistic.predict(train_X)\n",
    "cm = confusion_matrix(train_Y,pred_logistic_train)\n",
    "print(\"Accuracy for Train: \",(cm[0,0] + cm[1,1])/(cm[0,0] + cm[1,1] + cm[0,1] + cm[1,0]))\n",
    "\n",
    "#ROC Curve\n",
    "plt.figure()\n",
    "plt.rcParams['figure.figsize'] = 7,7\n",
    "fpr,tpr,threshold = roc_curve(test_Y,pred_logistic)\n",
    "plt.plot([0, 1], [0, 1], linestyle='--')\n",
    "plt.plot(fpr, tpr, marker='.')\n",
    "plt.xlabel('FPR',fontsize = 20)\n",
    "plt.ylabel('TPR',fontsize = 20)\n",
    "plt.title('ROC Curve',fontsize = 20)\n",
    "plt.show()"
   ]
  },
  {
   "cell_type": "markdown",
   "metadata": {
    "_uuid": "e774951437c30f09404614ab3f332dd04bd1594b"
   },
   "source": [
    "So we get an accuracy of around 0.91 i.e. we are able to make correct predictions 91 times out of 100."
   ]
  },
  {
   "cell_type": "markdown",
   "metadata": {
    "_uuid": "54ade5cb84e9e5ead2eb1a48ddda2d2d7995539e"
   },
   "source": [
    "## ***Support Vector Classification - Linear Kernel***"
   ]
  },
  {
   "cell_type": "markdown",
   "metadata": {
    "_uuid": "861ff2b945bdd685f119deae9a328a0c93432e23"
   },
   "source": [
    "### ***Training the model***"
   ]
  },
  {
   "cell_type": "code",
   "execution_count": 11,
   "metadata": {
    "_uuid": "c875d8d67298db5afd306da973f7279f0e0fd8fc"
   },
   "outputs": [
    {
     "data": {
      "text/plain": [
       "SVC(C=1, cache_size=200, class_weight=None, coef0=0.0,\n",
       "  decision_function_shape='ovr', degree=3, gamma='auto_deprecated',\n",
       "  kernel='linear', max_iter=-1, probability=False, random_state=0,\n",
       "  shrinking=True, tol=0.001, verbose=False)"
      ]
     },
     "execution_count": 11,
     "metadata": {},
     "output_type": "execute_result"
    }
   ],
   "source": [
    "model_svc_linear = SVC(kernel = 'linear',random_state = 0 , C = 1)\n",
    "model_svc_linear.fit(train_X,train_Y)"
   ]
  },
  {
   "cell_type": "markdown",
   "metadata": {
    "_uuid": "6f6020714a6ca941a3967cb316db828da8f322fd"
   },
   "source": [
    "### ***Predicting the Outcome***"
   ]
  },
  {
   "cell_type": "code",
   "execution_count": 12,
   "metadata": {
    "_uuid": "854b6c53f5f3e4eb028c47849db7905331b839ad"
   },
   "outputs": [],
   "source": [
    "pred_svc_linear = model_svc_linear.predict(test_X)"
   ]
  },
  {
   "cell_type": "markdown",
   "metadata": {
    "_uuid": "57f5664501c2b338106b11300304b574a00a80b0"
   },
   "source": [
    "### ***Checking for Accuracy***"
   ]
  },
  {
   "cell_type": "code",
   "execution_count": 13,
   "metadata": {
    "_uuid": "a56b3dfaf7ce91c4f7dbb8677707f201f8ed2ec2"
   },
   "outputs": [
    {
     "name": "stdout",
     "output_type": "stream",
     "text": [
      "Precision Score :  0.8333333333333334\n",
      "Recall Score :  0.8928571428571429\n",
      "Classification Report: \n",
      "              precision    recall  f1-score   support\n",
      "\n",
      "           0       0.96      0.93      0.94        72\n",
      "           1       0.83      0.89      0.86        28\n",
      "\n",
      "   micro avg       0.92      0.92      0.92       100\n",
      "   macro avg       0.90      0.91      0.90       100\n",
      "weighted avg       0.92      0.92      0.92       100\n",
      "\n",
      "Accuracy for Test:  0.92\n",
      "Accuracy for Train:  0.9325\n"
     ]
    },
    {
     "data": {
      "image/png": "[encoded data removed]",
      "text/plain": [
       "<Figure size 720x720 with 2 Axes>"
      ]
     },
     "metadata": {},
     "output_type": "display_data"
    },
    {
     "data": {
      "image/png": "[encoded data removed]",
      "text/plain": [
       "<Figure size 720x720 with 1 Axes>"
      ]
     },
     "metadata": {},
     "output_type": "display_data"
    }
   ],
   "source": [
    "#Precision\n",
    "print(\"Precision Score : \",precision_score(test_Y,pred_svc_linear))\n",
    "\n",
    "#Recall\n",
    "print(\"Recall Score : \",recall_score(test_Y,pred_svc_linear))\n",
    "\n",
    "#Confusion Matrix\n",
    "cm_svc_linear = confusion_matrix(test_Y,pred_svc_linear)\n",
    "\n",
    "#Classification Report\n",
    "print(\"Classification Report: \")\n",
    "print(classification_report(test_Y,pred_svc_linear))\n",
    "#Accuracy\n",
    "print(\"Accuracy for Test: \",(cm_svc_linear[0,0] + cm_svc_linear[1,1])/\n",
    "      (cm_svc_linear[0,0] + cm_svc_linear[1,1] + cm_svc_linear[0,1] + cm_svc_linear[1,0]))\n",
    "\n",
    "plt.rcParams['figure.figsize'] = 10,10\n",
    "sns.heatmap(cm_svc_linear,annot = True)\n",
    "plt.title('Test Dataset')\n",
    "plt.ylabel('Actual')\n",
    "plt.xlabel('Predicted')\n",
    "\n",
    "\n",
    "pred_svc_linear_train = model_svc_linear.predict(train_X)\n",
    "cm = confusion_matrix(train_Y,pred_svc_linear_train)\n",
    "print(\"Accuracy for Train: \",(cm[0,0] + cm[1,1])/(cm[0,0] + cm[1,1] + cm[0,1] + cm[1,0]))\n",
    "\n",
    "#ROC Curve\n",
    "plt.figure()\n",
    "plt.rcParams['figure.figsize'] = 7,7\n",
    "fpr,tpr,threshold = roc_curve(test_Y,pred_svc_linear)\n",
    "plt.plot([0, 1], [0, 1], linestyle='--')\n",
    "plt.plot(fpr, tpr, marker='.')\n",
    "plt.xlabel('FPR',fontsize = 20)\n",
    "plt.ylabel('TPR',fontsize = 20)\n",
    "plt.title('ROC Curve',fontsize = 20)\n",
    "plt.show()"
   ]
  },
  {
   "cell_type": "markdown",
   "metadata": {
    "_uuid": "ef4e676a4b9dd029172d59fb1570c75b87bc3aa1"
   },
   "source": [
    "As we can see we have slightly improved the accuracy as compared to the Logistic Regression Model on both the testing and the training dataset."
   ]
  },
  {
   "cell_type": "markdown",
   "metadata": {
    "_uuid": "6f697e6d15d363281011c0b34993f5b23bc0d9ab"
   },
   "source": [
    "## ***Support Vector Classification - Gaussian Kernel***"
   ]
  },
  {
   "cell_type": "markdown",
   "metadata": {
    "_uuid": "2f8f1c18612cd732062e744b3f14c3cefa091ddd"
   },
   "source": [
    "### ***Training the Dataset***"
   ]
  },
  {
   "cell_type": "code",
   "execution_count": 14,
   "metadata": {
    "_uuid": "b635ecabe25a53a5de533d25dfcf4ca2e92590a8"
   },
   "outputs": [
    {
     "data": {
      "text/plain": [
       "SVC(C=100, cache_size=200, class_weight=None, coef0=0.0,\n",
       "  decision_function_shape='ovr', degree=3, gamma=0.01, kernel='rbf',\n",
       "  max_iter=-1, probability=False, random_state=0, shrinking=True,\n",
       "  tol=0.001, verbose=False)"
      ]
     },
     "execution_count": 14,
     "metadata": {},
     "output_type": "execute_result"
    }
   ],
   "source": [
    "model_svc_rbf = SVC(kernel = 'rbf',random_state = 0 , C = 100, gamma = 0.01)\n",
    "model_svc_rbf.fit(train_X,train_Y)"
   ]
  },
  {
   "cell_type": "markdown",
   "metadata": {
    "_uuid": "3a2289067bf4d54e93055217cead05c1bdad45f2"
   },
   "source": [
    "### ***Predicting the Outcome***"
   ]
  },
  {
   "cell_type": "code",
   "execution_count": 15,
   "metadata": {
    "_uuid": "97b7b90678ee9c6fb2b824cd329d532e29a5b6ae"
   },
   "outputs": [],
   "source": [
    "pred_svc_rbf = model_svc_rbf.predict(test_X)"
   ]
  },
  {
   "cell_type": "markdown",
   "metadata": {
    "_uuid": "453c4d0151bffb909d8635cfe06ec835e27188e8"
   },
   "source": [
    "### ***Checking the Accuracy***"
   ]
  },
  {
   "cell_type": "code",
   "execution_count": 16,
   "metadata": {
    "_uuid": "2a27e56d0a89548c1ac38822354d8f3c2bd65d18"
   },
   "outputs": [
    {
     "name": "stdout",
     "output_type": "stream",
     "text": [
      "Precision Score :  0.84375\n",
      "Recall Score :  0.9642857142857143\n",
      "Classification Report: \n",
      "              precision    recall  f1-score   support\n",
      "\n",
      "           0       0.99      0.93      0.96        72\n",
      "           1       0.84      0.96      0.90        28\n",
      "\n",
      "   micro avg       0.94      0.94      0.94       100\n",
      "   macro avg       0.91      0.95      0.93       100\n",
      "weighted avg       0.95      0.94      0.94       100\n",
      "\n",
      "Accuracy for Test:  0.94\n",
      "Accuracy for Train:  0.95\n"
     ]
    },
    {
     "data": {
      "image/png": "[encoded data removed]",
      "text/plain": [
       "<Figure size 720x720 with 2 Axes>"
      ]
     },
     "metadata": {},
     "output_type": "display_data"
    },
    {
     "data": {
      "image/png": "[encoded data removed]",
      "text/plain": [
       "<Figure size 720x720 with 1 Axes>"
      ]
     },
     "metadata": {},
     "output_type": "display_data"
    }
   ],
   "source": [
    "#Precision\n",
    "print(\"Precision Score : \",precision_score(test_Y,pred_svc_rbf))\n",
    "\n",
    "#Recall\n",
    "print(\"Recall Score : \",recall_score(test_Y,pred_svc_rbf))\n",
    "\n",
    "#Confusion Matrix\n",
    "cm_svc_rbf = confusion_matrix(test_Y,pred_svc_rbf)\n",
    "\n",
    "#Classification Report\n",
    "print(\"Classification Report: \")\n",
    "print(classification_report(test_Y,pred_svc_rbf))\n",
    "#Accuracy\n",
    "print(\"Accuracy for Test: \",(cm_svc_rbf[0,0] + cm_svc_rbf[1,1])/\n",
    "      (cm_svc_rbf[0,0] + cm_svc_rbf[1,1] + cm_svc_rbf[0,1] + cm_svc_rbf[1,0]))\n",
    "\n",
    "plt.rcParams['figure.figsize'] = 10,10\n",
    "sns.heatmap(cm,annot = True)\n",
    "plt.title('Test Dataset')\n",
    "plt.ylabel('Actual')\n",
    "plt.xlabel('Predicted')\n",
    "\n",
    "\n",
    "pred_svc_rbf_train = model_svc_rbf.predict(train_X)\n",
    "cm = confusion_matrix(train_Y,pred_svc_rbf_train)\n",
    "print(\"Accuracy for Train: \",(cm[0,0] + cm[1,1])/(cm[0,0] + cm[1,1] + cm[0,1] + cm[1,0]))\n",
    "\n",
    "#ROC Curve\n",
    "plt.figure()\n",
    "plt.rcParams['figure.figsize'] = 7,7\n",
    "fpr,tpr,threshold = roc_curve(test_Y,pred_svc_rbf)\n",
    "plt.plot([0, 1], [0, 1], linestyle='--')\n",
    "plt.plot(fpr, tpr, marker='.')\n",
    "plt.xlabel('FPR',fontsize = 20)\n",
    "plt.ylabel('TPR',fontsize = 20)\n",
    "plt.title('ROC Curve',fontsize = 20)\n",
    "plt.show()"
   ]
  },
  {
   "cell_type": "markdown",
   "metadata": {
    "_uuid": "dddea687531817d0b591d66593dd3d9f0e0f7afc"
   },
   "source": [
    "As you can see we have almost narrowed it down on the 100% accuracy for the dataset."
   ]
  },
  {
   "cell_type": "markdown",
   "metadata": {
    "_uuid": "409fdce824c8d88b43d317e540ea56f7ca2beb85"
   },
   "source": [
    "## ***Decision Tree Classification***"
   ]
  },
  {
   "cell_type": "markdown",
   "metadata": {
    "_uuid": "d0fe6a530dd724780cb101ead1ebcee17df63c66"
   },
   "source": [
    "### ***Training the Dataset***\n"
   ]
  },
  {
   "cell_type": "code",
   "execution_count": 17,
   "metadata": {
    "_uuid": "e3f751cb91c161626b617bed9aec28791b37125e"
   },
   "outputs": [
    {
     "data": {
      "text/plain": [
       "DecisionTreeClassifier(class_weight=None, criterion='entropy', max_depth=11,\n",
       "            max_features=5, max_leaf_nodes=None, min_impurity_decrease=0.0,\n",
       "            min_impurity_split=None, min_samples_leaf=1,\n",
       "            min_samples_split=5, min_weight_fraction_leaf=0.0,\n",
       "            presort=False, random_state=0, splitter='best')"
      ]
     },
     "execution_count": 17,
     "metadata": {},
     "output_type": "execute_result"
    }
   ],
   "source": [
    "model_dtree = DecisionTreeClassifier(criterion = 'entropy',random_state = 0,max_features = 5,max_depth = 11\n",
    "                                    ,min_samples_split = 5)\n",
    "model_dtree.fit(train_X,train_Y)"
   ]
  },
  {
   "cell_type": "markdown",
   "metadata": {
    "_uuid": "61fe060e9aacfbe6db2e2f1d43ca848ef5d80dda"
   },
   "source": [
    "### ***Predicing the Outcome***"
   ]
  },
  {
   "cell_type": "code",
   "execution_count": 18,
   "metadata": {
    "_uuid": "50fa7ccf6257f096dda3f66474d1d7c402a49fb5"
   },
   "outputs": [],
   "source": [
    "pred_dtree = model_dtree.predict(test_X)"
   ]
  },
  {
   "cell_type": "markdown",
   "metadata": {
    "_uuid": "e30b974206430e23b26a929c667b938e0c713ceb"
   },
   "source": [
    "### ***Checking for Accuracy***"
   ]
  },
  {
   "cell_type": "code",
   "execution_count": 19,
   "metadata": {
    "_uuid": "bc84ebab66f1b43b482f4b4a7e89a035957742fc"
   },
   "outputs": [
    {
     "name": "stdout",
     "output_type": "stream",
     "text": [
      "Precision Score :  0.8181818181818182\n",
      "Recall Score :  0.9642857142857143\n",
      "Classification Report: \n",
      "              precision    recall  f1-score   support\n",
      "\n",
      "           0       0.99      0.92      0.95        72\n",
      "           1       0.82      0.96      0.89        28\n",
      "\n",
      "   micro avg       0.93      0.93      0.93       100\n",
      "   macro avg       0.90      0.94      0.92       100\n",
      "weighted avg       0.94      0.93      0.93       100\n",
      "\n",
      "Accuracy for Test:  0.93\n",
      "Accuracy for Train:  0.99\n"
     ]
    },
    {
     "data": {
      "image/png": "[encoded data removed]",
      "text/plain": [
       "<Figure size 720x720 with 2 Axes>"
      ]
     },
     "metadata": {},
     "output_type": "display_data"
    },
    {
     "data": {
      "image/png": "[encoded data removed]",
      "text/plain": [
       "<Figure size 720x720 with 1 Axes>"
      ]
     },
     "metadata": {},
     "output_type": "display_data"
    }
   ],
   "source": [
    "#Precision\n",
    "print(\"Precision Score : \",precision_score(test_Y,pred_dtree))\n",
    "\n",
    "#Recall\n",
    "print(\"Recall Score : \",recall_score(test_Y,pred_dtree))\n",
    "\n",
    "#Confusion Matrix\n",
    "cm_dtree = confusion_matrix(test_Y,pred_dtree)\n",
    "\n",
    "#Classification Report\n",
    "print(\"Classification Report: \")\n",
    "print(classification_report(test_Y,pred_dtree))\n",
    "#Accuracy\n",
    "print(\"Accuracy for Test: \",(cm_dtree[0,0] + cm_dtree[1,1])/\n",
    "      (cm_dtree[0,0] + cm_dtree[1,1] + cm_dtree[0,1] + cm_dtree[1,0]))\n",
    "\n",
    "plt.rcParams['figure.figsize'] = 10,10\n",
    "sns.heatmap(cm_dtree,annot = True)\n",
    "plt.title('Test Dataset')\n",
    "plt.ylabel('Actual')\n",
    "plt.xlabel('Predicted')\n",
    "\n",
    "pred_dtree_train = model_dtree.predict(train_X)\n",
    "cm = confusion_matrix(train_Y,pred_dtree_train)\n",
    "print(\"Accuracy for Train: \",(cm[0,0] + cm[1,1])/(cm[0,0] + cm[1,1] + cm[0,1] + cm[1,0]))\n",
    "\n",
    "#ROC Curve\n",
    "plt.figure()\n",
    "plt.rcParams['figure.figsize'] = 7,7\n",
    "fpr,tpr,threshold = roc_curve(test_Y,pred_dtree)\n",
    "plt.plot([0, 1], [0, 1], linestyle='--')\n",
    "plt.plot(fpr, tpr, marker='.')\n",
    "plt.xlabel('FPR',fontsize = 20)\n",
    "plt.ylabel('TPR',fontsize = 20)\n",
    "plt.title('ROC Curve',fontsize = 20)\n",
    "plt.show()"
   ]
  },
  {
   "cell_type": "markdown",
   "metadata": {
    "_uuid": "03cdcab310e6ff1422390f962eedfaebf5207364"
   },
   "source": [
    "We can see that the Accuracy for train and test are nearby, but the difference might suggest that we are overfitting the dataset."
   ]
  },
  {
   "cell_type": "markdown",
   "metadata": {
    "_uuid": "66fe56dfc0240c2aa44961954693222ba941a9a4"
   },
   "source": [
    "## **Random Forest Classification**"
   ]
  },
  {
   "cell_type": "markdown",
   "metadata": {
    "_uuid": "a79a12f6c5fa769c938584488a3afd4e105d0bee"
   },
   "source": [
    "### ***Training the Dataset***"
   ]
  },
  {
   "cell_type": "code",
   "execution_count": 20,
   "metadata": {
    "_uuid": "dbd06ff3bef6e1ebd2d387c0b61fe473a15a5aae"
   },
   "outputs": [
    {
     "data": {
      "text/plain": [
       "RandomForestClassifier(bootstrap=True, class_weight=None, criterion='entropy',\n",
       "            max_depth=5, max_features=5, max_leaf_nodes=None,\n",
       "            min_impurity_decrease=0.0, min_impurity_split=None,\n",
       "            min_samples_leaf=1, min_samples_split=10,\n",
       "            min_weight_fraction_leaf=0.0, n_estimators=500, n_jobs=None,\n",
       "            oob_score=False, random_state=0, verbose=0, warm_start=False)"
      ]
     },
     "execution_count": 20,
     "metadata": {},
     "output_type": "execute_result"
    }
   ],
   "source": [
    "model_rforest = RandomForestClassifier(n_estimators = 500,random_state = 0,max_depth = 5\n",
    "                                      ,max_features = 5,min_samples_split = 10, \n",
    "                                       criterion = 'entropy')\n",
    "model_rforest.fit(train_X,train_Y)"
   ]
  },
  {
   "cell_type": "markdown",
   "metadata": {
    "_uuid": "2f48a9d80051a7e393b33707c98ba1a82ce90471"
   },
   "source": [
    "### ***Predicting the Outcome***"
   ]
  },
  {
   "cell_type": "code",
   "execution_count": 21,
   "metadata": {
    "_uuid": "cb7e1f314ac7f027a7f2ffb5ee132c9813381e64"
   },
   "outputs": [],
   "source": [
    "pred_rforest = model_rforest.predict(test_X)"
   ]
  },
  {
   "cell_type": "markdown",
   "metadata": {
    "_uuid": "1c1cd2c748831280235db762fb0e1866e54bc987"
   },
   "source": [
    "### ***Checking for Accuracy***"
   ]
  },
  {
   "cell_type": "code",
   "execution_count": 22,
   "metadata": {
    "_uuid": "894c7cffe435dccfe37bf07452ac2487bfa23a75"
   },
   "outputs": [
    {
     "name": "stdout",
     "output_type": "stream",
     "text": [
      "Precision Score :  0.7878787878787878\n",
      "Recall Score :  0.9285714285714286\n",
      "Classification Report: \n",
      "              precision    recall  f1-score   support\n",
      "\n",
      "           0       0.97      0.90      0.94        72\n",
      "           1       0.79      0.93      0.85        28\n",
      "\n",
      "   micro avg       0.91      0.91      0.91       100\n",
      "   macro avg       0.88      0.92      0.89       100\n",
      "weighted avg       0.92      0.91      0.91       100\n",
      "\n",
      "Accuracy for Test:  0.91\n",
      "Accuracy for Train:  0.95\n"
     ]
    },
    {
     "data": {
      "image/png": "[encoded data removed]",
      "text/plain": [
       "<Figure size 720x720 with 2 Axes>"
      ]
     },
     "metadata": {},
     "output_type": "display_data"
    },
    {
     "data": {
      "image/png": "[encoded data removed]",
      "text/plain": [
       "<Figure size 720x720 with 1 Axes>"
      ]
     },
     "metadata": {},
     "output_type": "display_data"
    }
   ],
   "source": [
    "#Precision\n",
    "print(\"Precision Score : \",precision_score(test_Y,pred_rforest))\n",
    "\n",
    "#Recall\n",
    "print(\"Recall Score : \",recall_score(test_Y,pred_rforest))\n",
    "\n",
    "#Confusion Matrix\n",
    "cm_rforest = confusion_matrix(test_Y,pred_rforest)\n",
    "\n",
    "#Classification Report\n",
    "print(\"Classification Report: \")\n",
    "print(classification_report(test_Y,pred_rforest))\n",
    "#Accuracy\n",
    "print(\"Accuracy for Test: \",(cm_rforest[0,0] + cm_rforest[1,1])/\n",
    "      (cm_rforest[0,0] + cm_rforest[1,1] + cm_rforest[0,1] + cm_rforest[1,0]))\n",
    "\n",
    "plt.rcParams['figure.figsize'] = 10,10\n",
    "sns.heatmap(cm_rforest,annot = True)\n",
    "plt.title('Test Dataset')\n",
    "plt.ylabel('Actual')\n",
    "plt.xlabel('Predicted')\n",
    "\n",
    "pred_rforest_train = model_rforest.predict(train_X)\n",
    "cm = confusion_matrix(train_Y,pred_rforest_train)\n",
    "print(\"Accuracy for Train: \",(cm[0,0] + cm[1,1])/(cm[0,0] + cm[1,1] + cm[0,1] + cm[1,0]))\n",
    "\n",
    "#ROC Curve\n",
    "plt.figure()\n",
    "plt.rcParams['figure.figsize'] = 7,7\n",
    "fpr,tpr,threshold = roc_curve(test_Y,pred_rforest)\n",
    "plt.plot([0, 1], [0, 1], linestyle='--')\n",
    "plt.plot(fpr, tpr, marker='.')\n",
    "plt.xlabel('FPR',fontsize = 20)\n",
    "plt.ylabel('TPR',fontsize = 20)\n",
    "plt.title('ROC Curve',fontsize = 20)\n",
    "plt.show()"
   ]
  },
  {
   "cell_type": "markdown",
   "metadata": {
    "_uuid": "ee5d848a30ef3055a606dd588bdc489353061ba6"
   },
   "source": [
    "## **Naive Bayes Classifier**"
   ]
  },
  {
   "cell_type": "markdown",
   "metadata": {
    "_uuid": "589436ec60701b203970e71aa4caa5cdbd1f6f33"
   },
   "source": [
    "### ***Training the Dataset***"
   ]
  },
  {
   "cell_type": "code",
   "execution_count": 23,
   "metadata": {
    "_uuid": "9f2aa97fbfc512ee339ee302007e73eb8b7121b1"
   },
   "outputs": [
    {
     "data": {
      "text/plain": [
       "GaussianNB(priors=None, var_smoothing=1e-09)"
      ]
     },
     "execution_count": 23,
     "metadata": {},
     "output_type": "execute_result"
    }
   ],
   "source": [
    "model_nb = GaussianNB()\n",
    "model_nb.fit(train_X,train_Y)"
   ]
  },
  {
   "cell_type": "markdown",
   "metadata": {
    "_uuid": "a279be8ba22c60b8440a744527e711674f6cd276"
   },
   "source": [
    "### ***Predicting the Outcomes***"
   ]
  },
  {
   "cell_type": "code",
   "execution_count": 24,
   "metadata": {
    "_uuid": "cfe9138f77cc691b5248d21f43b6fae6c0c644b2"
   },
   "outputs": [],
   "source": [
    "pred_nb = model_nb.predict(test_X)"
   ]
  },
  {
   "cell_type": "markdown",
   "metadata": {
    "_uuid": "1836b25c4be89d459b68a275121a65f2cad4ca90"
   },
   "source": [
    "### ***Checking for Accuracy***"
   ]
  },
  {
   "cell_type": "code",
   "execution_count": 25,
   "metadata": {
    "_uuid": "928ce9600be466e469fc5cba12af77926cd28124"
   },
   "outputs": [
    {
     "name": "stdout",
     "output_type": "stream",
     "text": [
      "Precision Score :  0.7428571428571429\n",
      "Recall Score :  0.9285714285714286\n",
      "Classification Report: \n",
      "              precision    recall  f1-score   support\n",
      "\n",
      "           0       0.97      0.88      0.92        72\n",
      "           1       0.74      0.93      0.83        28\n",
      "\n",
      "   micro avg       0.89      0.89      0.89       100\n",
      "   macro avg       0.86      0.90      0.87       100\n",
      "weighted avg       0.91      0.89      0.89       100\n",
      "\n",
      "Accuracy for Test:  0.89\n",
      "Accuracy for Train:  0.9125\n"
     ]
    },
    {
     "data": {
      "image/png": "[encoded data removed]",
      "text/plain": [
       "<Figure size 504x504 with 2 Axes>"
      ]
     },
     "metadata": {},
     "output_type": "display_data"
    },
    {
     "data": {
      "image/png": "[encoded data removed]",
      "text/plain": [
       "<Figure size 504x504 with 1 Axes>"
      ]
     },
     "metadata": {},
     "output_type": "display_data"
    }
   ],
   "source": [
    "#Precision\n",
    "print(\"Precision Score : \",precision_score(test_Y,pred_nb))\n",
    "\n",
    "#Recall\n",
    "print(\"Recall Score : \",recall_score(test_Y,pred_nb))\n",
    "\n",
    "#Confusion Matrix\n",
    "cm_nb = confusion_matrix(test_Y,pred_nb)\n",
    "\n",
    "#Classification Report\n",
    "print(\"Classification Report: \")\n",
    "print(classification_report(test_Y,pred_nb))\n",
    "#Accuracy\n",
    "print(\"Accuracy for Test: \",(cm_nb[0,0] + cm_nb[1,1])/\n",
    "      (cm_nb[0,0] + cm_nb[1,1] + cm_nb[0,1] + cm_nb[1,0]))\n",
    "\n",
    "plt.rcParams['figure.figsize'] = 7,7\n",
    "sns.heatmap(cm_nb,annot = True)\n",
    "plt.title('Test Dataset')\n",
    "plt.ylabel('Actual')\n",
    "plt.xlabel('Predicted')\n",
    "\n",
    "pred_nb_train = model_nb.predict(train_X)\n",
    "cm = confusion_matrix(train_Y,pred_nb_train)\n",
    "print(\"Accuracy for Train: \",(cm[0,0] + cm[1,1])/(cm[0,0] + cm[1,1] + cm[0,1] + cm[1,0]))\n",
    "\n",
    "#ROC Curve\n",
    "plt.figure()\n",
    "plt.rcParams['figure.figsize'] = 10,10\n",
    "fpr,tpr,threshold = roc_curve(test_Y,pred_nb)\n",
    "plt.plot([0, 1], [0, 1], linestyle='--')\n",
    "plt.plot(fpr, tpr, marker='.')\n",
    "plt.xlabel('FPR',fontsize = 20)\n",
    "plt.ylabel('TPR',fontsize = 20)\n",
    "plt.title('ROC Curve',fontsize = 20)\n",
    "plt.show()"
   ]
  },
  {
   "cell_type": "markdown",
   "metadata": {
    "_uuid": "1a14f1d69ae5a381d9276f74dbc32736f7486160"
   },
   "source": [
    "## **K Nearest Neighbors**"
   ]
  },
  {
   "cell_type": "markdown",
   "metadata": {
    "_uuid": "76d78990f8e63d771058192ceaa2e9378391204f"
   },
   "source": [
    "### ***Training the Dataset***"
   ]
  },
  {
   "cell_type": "code",
   "execution_count": 26,
   "metadata": {
    "_uuid": "f133122f218debfd43bb2988adf354e96d53e5da"
   },
   "outputs": [
    {
     "data": {
      "text/plain": [
       "KNeighborsClassifier(algorithm='auto', leaf_size=30, metric='minkowski',\n",
       "           metric_params=None, n_jobs=None, n_neighbors=5, p=2,\n",
       "           weights='uniform')"
      ]
     },
     "execution_count": 26,
     "metadata": {},
     "output_type": "execute_result"
    }
   ],
   "source": [
    "model_knn = KNeighborsClassifier(n_neighbors= 5,metric = 'minkowski',p = 2)\n",
    "model_knn.fit(train_X,train_Y)"
   ]
  },
  {
   "cell_type": "markdown",
   "metadata": {
    "_uuid": "eb59d55398ff06399f90bebaa21459d152cddb9c"
   },
   "source": [
    "### ***Predicting the Outcome***"
   ]
  },
  {
   "cell_type": "code",
   "execution_count": 27,
   "metadata": {
    "_uuid": "b39db33432d5dbc8c773d5e055e0042ffe0d45ef"
   },
   "outputs": [],
   "source": [
    "pred_knn = model_knn.predict(test_X)"
   ]
  },
  {
   "cell_type": "markdown",
   "metadata": {
    "_uuid": "71ff91265e27f4f0f11914e359130364c86c490a"
   },
   "source": [
    "### ***Checking for Accuracy***"
   ]
  },
  {
   "cell_type": "code",
   "execution_count": 28,
   "metadata": {
    "_uuid": "364047cd90c3eb4c62022f51d132816724f4658a"
   },
   "outputs": [
    {
     "name": "stdout",
     "output_type": "stream",
     "text": [
      "Precision Score :  0.7428571428571429\n",
      "Recall Score :  0.9285714285714286\n",
      "Classification Report: \n",
      "              precision    recall  f1-score   support\n",
      "\n",
      "           0       0.97      0.88      0.92        72\n",
      "           1       0.74      0.93      0.83        28\n",
      "\n",
      "   micro avg       0.89      0.89      0.89       100\n",
      "   macro avg       0.86      0.90      0.87       100\n",
      "weighted avg       0.91      0.89      0.89       100\n",
      "\n",
      "Accuracy for Test:  0.89\n",
      "Accuracy for Train:  0.9125\n"
     ]
    },
    {
     "data": {
      "image/png": "[encoded data removed]",
      "text/plain": [
       "<Figure size 504x504 with 2 Axes>"
      ]
     },
     "metadata": {},
     "output_type": "display_data"
    },
    {
     "data": {
      "image/png": "[encoded data removed]",
      "text/plain": [
       "<Figure size 504x504 with 1 Axes>"
      ]
     },
     "metadata": {},
     "output_type": "display_data"
    }
   ],
   "source": [
    "#Precision\n",
    "print(\"Precision Score : \",precision_score(test_Y,pred_knn))\n",
    "\n",
    "#Recall\n",
    "print(\"Recall Score : \",recall_score(test_Y,pred_knn))\n",
    "\n",
    "#Confusion Matrix\n",
    "cm_knn = confusion_matrix(test_Y,pred_knn)\n",
    "\n",
    "#Classification Report\n",
    "print(\"Classification Report: \")\n",
    "print(classification_report(test_Y,pred_knn))\n",
    "#Accuracy\n",
    "print(\"Accuracy for Test: \",(cm_knn[0,0] + cm_knn[1,1])/\n",
    "      (cm_knn[0,0] + cm_knn[1,1] + cm_knn[0,1] + cm_knn[1,0]))\n",
    "\n",
    "plt.rcParams['figure.figsize'] = 7,7\n",
    "sns.heatmap(cm_knn,annot = True)\n",
    "plt.title('Test Dataset')\n",
    "plt.ylabel('Actual')\n",
    "plt.xlabel('Predicted')\n",
    "\n",
    "pred_knn_train = model_nb.predict(train_X)\n",
    "cm = confusion_matrix(train_Y,pred_knn_train)\n",
    "print(\"Accuracy for Train: \",(cm[0,0] + cm[1,1])/(cm[0,0] + cm[1,1] + cm[0,1] + cm[1,0]))\n",
    "\n",
    "#ROC Curve\n",
    "plt.figure()\n",
    "plt.rcParams['figure.figsize'] = 10,10\n",
    "fpr,tpr,threshold = roc_curve(test_Y,pred_knn)\n",
    "plt.plot([0, 1], [0, 1], linestyle='--')\n",
    "plt.plot(fpr, tpr, marker='.')\n",
    "plt.xlabel('FPR',fontsize = 20)\n",
    "plt.ylabel('TPR',fontsize = 20)\n",
    "plt.title('ROC Curve',fontsize = 20)\n",
    "plt.show()"
   ]
  },
  {
   "cell_type": "markdown",
   "metadata": {
    "_uuid": "62498a5a0eeec5d31b0471d3e2717cfdb67a5d31"
   },
   "source": [
    "## **Principal Component Classification**"
   ]
  },
  {
   "cell_type": "markdown",
   "metadata": {
    "_uuid": "5f1d02c5da474f8795d4a9327d52f1719e49ef2a"
   },
   "source": [
    "### ***Finding the Principal Component***"
   ]
  },
  {
   "cell_type": "code",
   "execution_count": 29,
   "metadata": {
    "_uuid": "33a038484774f7dbdbce6de91d9b4b9446723992"
   },
   "outputs": [],
   "source": [
    "pca = PCA(n_components = None)\n",
    "train_X_pca = pca.fit_transform(train_X)\n",
    "test_X_pca = pca.fit(test_X)\n",
    "explained_variance = pca.explained_variance_ratio_"
   ]
  },
  {
   "cell_type": "code",
   "execution_count": 30,
   "metadata": {
    "_uuid": "29245078c95a475ab1378f286d5726ce4e1a495f"
   },
   "outputs": [
    {
     "name": "stdout",
     "output_type": "stream",
     "text": [
      "0.93\n",
      "0.06\n",
      "0.01\n",
      "0.0\n",
      "0.0\n",
      "0.0\n",
      "0.0\n"
     ]
    }
   ],
   "source": [
    "for x in explained_variance:\n",
    "    print(round(x,2))"
   ]
  },
  {
   "cell_type": "markdown",
   "metadata": {
    "_uuid": "a854119a4ee0b9e1b87dfe66f6129c27ff14dfc6"
   },
   "source": [
    "As we can the variance explained by the first two components is enough and the other components can be ignored. Now using this components to create the new logistic regression model"
   ]
  },
  {
   "cell_type": "markdown",
   "metadata": {
    "_uuid": "f395011073aee137a6304698277f2305d5c258e5"
   },
   "source": [
    "### ***Training the Dataset***"
   ]
  },
  {
   "cell_type": "code",
   "execution_count": 31,
   "metadata": {
    "_uuid": "a86a00264086faa5f463d07ef984d99028472cd1"
   },
   "outputs": [
    {
     "name": "stderr",
     "output_type": "stream",
     "text": [
      "/opt/conda/lib/python3.6/site-packages/sklearn/linear_model/logistic.py:433: FutureWarning: Default solver will be changed to 'lbfgs' in 0.22. Specify a solver to silence this warning.\n",
      "  FutureWarning)\n"
     ]
    },
    {
     "data": {
      "text/plain": [
       "LogisticRegression(C=1.0, class_weight=None, dual=False, fit_intercept=True,\n",
       "          intercept_scaling=1, max_iter=100, multi_class='warn',\n",
       "          n_jobs=None, penalty='l2', random_state=None, solver='warn',\n",
       "          tol=0.0001, verbose=0, warm_start=False)"
      ]
     },
     "execution_count": 31,
     "metadata": {},
     "output_type": "execute_result"
    }
   ],
   "source": [
    "pca = PCA(n_components = 2)\n",
    "train_X_pca = pca.fit_transform(train_X)\n",
    "test_X_pca = pca.transform(test_X)\n",
    "model_pca = LogisticRegression()\n",
    "model_pca.fit(train_X_pca,train_Y)"
   ]
  },
  {
   "cell_type": "markdown",
   "metadata": {
    "_uuid": "4952bd66eb439c0412ddd301f2547288b86c941c"
   },
   "source": [
    "### ***Predicting the Outcome***"
   ]
  },
  {
   "cell_type": "code",
   "execution_count": 32,
   "metadata": {
    "_uuid": "5deea2d5300930c4feb8a454b99e6675c1ca428a"
   },
   "outputs": [],
   "source": [
    "pred_pca = model_pca.predict(test_X_pca)"
   ]
  },
  {
   "cell_type": "markdown",
   "metadata": {
    "_uuid": "8d61ef90124a253f95733c73d8832ac272fdee0b"
   },
   "source": [
    "### ***Checking the Accuracy***"
   ]
  },
  {
   "cell_type": "code",
   "execution_count": 33,
   "metadata": {
    "_uuid": "483752a395edb60537f358e982b0157eba61e790"
   },
   "outputs": [
    {
     "name": "stdout",
     "output_type": "stream",
     "text": [
      "Precision Score :  0.6944444444444444\n",
      "Recall Score :  0.8928571428571429\n",
      "Classification Report: \n",
      "              precision    recall  f1-score   support\n",
      "\n",
      "           0       0.95      0.85      0.90        72\n",
      "           1       0.69      0.89      0.78        28\n",
      "\n",
      "   micro avg       0.86      0.86      0.86       100\n",
      "   macro avg       0.82      0.87      0.84       100\n",
      "weighted avg       0.88      0.86      0.86       100\n",
      "\n",
      "Accuracy for Test:  0.86\n",
      "Accuracy for Train:  0.89\n"
     ]
    },
    {
     "data": {
      "image/png": "[encoded data removed]",
      "text/plain": [
       "<Figure size 720x720 with 2 Axes>"
      ]
     },
     "metadata": {},
     "output_type": "display_data"
    },
    {
     "data": {
      "image/png": "[encoded data removed]",
      "text/plain": [
       "<Figure size 720x720 with 1 Axes>"
      ]
     },
     "metadata": {},
     "output_type": "display_data"
    }
   ],
   "source": [
    "#Precision\n",
    "print(\"Precision Score : \",precision_score(test_Y,pred_pca))\n",
    "\n",
    "#Recall\n",
    "print(\"Recall Score : \",recall_score(test_Y,pred_pca))\n",
    "\n",
    "#Confusion Matrix\n",
    "cm_pca = confusion_matrix(test_Y,pred_pca)\n",
    "\n",
    "#Classification Report\n",
    "print(\"Classification Report: \")\n",
    "print(classification_report(test_Y,pred_pca))\n",
    "#Accuracy\n",
    "print(\"Accuracy for Test: \",(cm_pca[0,0] + cm_pca[1,1])/\n",
    "      (cm_pca[0,0] + cm_pca[1,1] + cm_pca[0,1] + cm_pca[1,0]))\n",
    "\n",
    "plt.rcParams['figure.figsize'] = 10,10\n",
    "sns.heatmap(cm_pca,annot = True)\n",
    "plt.title('Test Dataset')\n",
    "plt.ylabel('Actual')\n",
    "plt.xlabel('Predicted')\n",
    "\n",
    "pred_pca_train = model_pca.predict(train_X_pca)\n",
    "cm = confusion_matrix(train_Y,pred_pca_train)\n",
    "print(\"Accuracy for Train: \",(cm[0,0] + cm[1,1])/(cm[0,0] + cm[1,1] + cm[0,1] + cm[1,0]))\n",
    "\n",
    "#ROC Curve\n",
    "plt.figure()\n",
    "plt.rcParams['figure.figsize'] = 7,7\n",
    "fpr,tpr,threshold = roc_curve(test_Y,pred_pca)\n",
    "plt.plot([0, 1], [0, 1], linestyle='--')\n",
    "plt.plot(fpr, tpr, marker='.')\n",
    "plt.xlabel('FPR',fontsize = 20)\n",
    "plt.ylabel('TPR',fontsize = 20)\n",
    "plt.title('ROC Curve',fontsize = 20)\n",
    "plt.show()"
   ]
  },
  {
   "cell_type": "markdown",
   "metadata": {
    "_uuid": "d7f5244d7ad3f550f74a693582b28e8e2d274955"
   },
   "source": [
    "Though most of the variance is explained by first two parameters, we see that the model does not give great output on the test dataset."
   ]
  },
  {
   "cell_type": "markdown",
   "metadata": {
    "_uuid": "f041b5174816dd744f94b976152920cbdea168d3"
   },
   "source": [
    "## **Artifical Neural Network**"
   ]
  },
  {
   "cell_type": "markdown",
   "metadata": {
    "_uuid": "e103112ace1e14c9201dd893a2f830afe8d9844f"
   },
   "source": [
    "### ***Training the Dataset***"
   ]
  },
  {
   "cell_type": "code",
   "execution_count": 34,
   "metadata": {
    "_uuid": "84ca94701ccfac32f46584a80965995319b3ca28"
   },
   "outputs": [
    {
     "name": "stderr",
     "output_type": "stream",
     "text": [
      "/opt/conda/lib/python3.6/site-packages/ipykernel_launcher.py:3: UserWarning: Update your `Dense` call to the Keras 2 API: `Dense(activation=\"relu\", input_dim=7, units=6, kernel_initializer=\"uniform\")`\n",
      "  This is separate from the ipykernel package so we can avoid doing imports until\n",
      "/opt/conda/lib/python3.6/site-packages/ipykernel_launcher.py:6: UserWarning: Update your `Dense` call to the Keras 2 API: `Dense(activation=\"relu\", units=6, kernel_initializer=\"uniform\")`\n",
      "  \n",
      "/opt/conda/lib/python3.6/site-packages/ipykernel_launcher.py:9: UserWarning: Update your `Dense` call to the Keras 2 API: `Dense(activation=\"sigmoid\", units=1, kernel_initializer=\"uniform\")`\n",
      "  if __name__ == '__main__':\n",
      "/opt/conda/lib/python3.6/site-packages/ipykernel_launcher.py:14: UserWarning: The `nb_epoch` argument in `fit` has been renamed `epochs`.\n",
      "  \n"
     ]
    },
    {
     "name": "stdout",
     "output_type": "stream",
     "text": [
      "Epoch 1/100\n",
      "400/400 [==============================] - 1s 2ms/step - loss: 0.6475 - acc: 0.6825\n",
      "Epoch 2/100\n",
      "400/400 [==============================] - 0s 217us/step - loss: 0.6382 - acc: 0.6825\n",
      "Epoch 3/100\n",
      "400/400 [==============================] - 0s 221us/step - loss: 0.6369 - acc: 0.6825\n",
      "Epoch 4/100\n",
      "400/400 [==============================] - 0s 214us/step - loss: 0.6339 - acc: 0.6825\n",
      "Epoch 5/100\n",
      "400/400 [==============================] - 0s 215us/step - loss: 0.6310 - acc: 0.6825\n",
      "Epoch 6/100\n",
      "400/400 [==============================] - 0s 222us/step - loss: 0.6308 - acc: 0.6825\n",
      "Epoch 7/100\n",
      "400/400 [==============================] - 0s 212us/step - loss: 0.6269 - acc: 0.6825\n",
      "Epoch 8/100\n",
      "400/400 [==============================] - 0s 220us/step - loss: 0.6265 - acc: 0.6825\n",
      "Epoch 9/100\n",
      "400/400 [==============================] - 0s 215us/step - loss: 0.6243 - acc: 0.6825\n",
      "Epoch 10/100\n",
      "400/400 [==============================] - 0s 220us/step - loss: 0.6194 - acc: 0.6825\n",
      "Epoch 11/100\n",
      "400/400 [==============================] - 0s 215us/step - loss: 0.6102 - acc: 0.6825\n",
      "Epoch 12/100\n",
      "400/400 [==============================] - 0s 208us/step - loss: 0.5963 - acc: 0.6825\n",
      "Epoch 13/100\n",
      "400/400 [==============================] - 0s 207us/step - loss: 0.5760 - acc: 0.6825\n",
      "Epoch 14/100\n",
      "400/400 [==============================] - 0s 207us/step - loss: 0.5532 - acc: 0.6825\n",
      "Epoch 15/100\n",
      "400/400 [==============================] - 0s 209us/step - loss: 0.5193 - acc: 0.6975\n",
      "Epoch 16/100\n",
      "400/400 [==============================] - 0s 210us/step - loss: 0.4970 - acc: 0.7425\n",
      "Epoch 17/100\n",
      "400/400 [==============================] - 0s 206us/step - loss: 0.4408 - acc: 0.8200\n",
      "Epoch 18/100\n",
      "400/400 [==============================] - 0s 201us/step - loss: 0.4113 - acc: 0.8250\n",
      "Epoch 19/100\n",
      "400/400 [==============================] - 0s 211us/step - loss: 0.3909 - acc: 0.8425\n",
      "Epoch 20/100\n",
      "400/400 [==============================] - 0s 218us/step - loss: 0.3695 - acc: 0.8450\n",
      "Epoch 21/100\n",
      "400/400 [==============================] - 0s 224us/step - loss: 0.3443 - acc: 0.8675\n",
      "Epoch 22/100\n",
      "400/400 [==============================] - 0s 210us/step - loss: 0.3657 - acc: 0.8500\n",
      "Epoch 23/100\n",
      "400/400 [==============================] - 0s 203us/step - loss: 0.3453 - acc: 0.8600\n",
      "Epoch 24/100\n",
      "400/400 [==============================] - 0s 205us/step - loss: 0.3854 - acc: 0.8375\n",
      "Epoch 25/100\n",
      "400/400 [==============================] - 0s 205us/step - loss: 0.3609 - acc: 0.8625\n",
      "Epoch 26/100\n",
      "400/400 [==============================] - 0s 209us/step - loss: 0.3550 - acc: 0.8525\n",
      "Epoch 27/100\n",
      "400/400 [==============================] - 0s 204us/step - loss: 0.3608 - acc: 0.8325\n",
      "Epoch 28/100\n",
      "400/400 [==============================] - 0s 208us/step - loss: 0.3337 - acc: 0.8650\n",
      "Epoch 29/100\n",
      "400/400 [==============================] - 0s 202us/step - loss: 0.3614 - acc: 0.8350\n",
      "Epoch 30/100\n",
      "400/400 [==============================] - 0s 207us/step - loss: 0.3415 - acc: 0.8550\n",
      "Epoch 31/100\n",
      "400/400 [==============================] - 0s 221us/step - loss: 0.3528 - acc: 0.8400\n",
      "Epoch 32/100\n",
      "400/400 [==============================] - 0s 202us/step - loss: 0.3402 - acc: 0.8600\n",
      "Epoch 33/100\n",
      "400/400 [==============================] - 0s 207us/step - loss: 0.3217 - acc: 0.8675\n",
      "Epoch 34/100\n",
      "400/400 [==============================] - 0s 200us/step - loss: 0.3395 - acc: 0.8675\n",
      "Epoch 35/100\n",
      "400/400 [==============================] - 0s 203us/step - loss: 0.3300 - acc: 0.8625\n",
      "Epoch 36/100\n",
      "400/400 [==============================] - 0s 202us/step - loss: 0.3527 - acc: 0.8425\n",
      "Epoch 37/100\n",
      "400/400 [==============================] - 0s 203us/step - loss: 0.3268 - acc: 0.8625\n",
      "Epoch 38/100\n",
      "400/400 [==============================] - 0s 204us/step - loss: 0.3619 - acc: 0.8425\n",
      "Epoch 39/100\n",
      "400/400 [==============================] - 0s 204us/step - loss: 0.3674 - acc: 0.8400\n",
      "Epoch 40/100\n",
      "400/400 [==============================] - 0s 203us/step - loss: 0.3267 - acc: 0.8600\n",
      "Epoch 41/100\n",
      "400/400 [==============================] - 0s 203us/step - loss: 0.3304 - acc: 0.8600\n",
      "Epoch 42/100\n",
      "400/400 [==============================] - 0s 205us/step - loss: 0.3210 - acc: 0.8650\n",
      "Epoch 43/100\n",
      "400/400 [==============================] - 0s 214us/step - loss: 0.3417 - acc: 0.8600\n",
      "Epoch 44/100\n",
      "400/400 [==============================] - 0s 205us/step - loss: 0.3222 - acc: 0.8700\n",
      "Epoch 45/100\n",
      "400/400 [==============================] - 0s 206us/step - loss: 0.3232 - acc: 0.8725\n",
      "Epoch 46/100\n",
      "400/400 [==============================] - 0s 208us/step - loss: 0.3221 - acc: 0.8550\n",
      "Epoch 47/100\n",
      "400/400 [==============================] - 0s 210us/step - loss: 0.3271 - acc: 0.8675\n",
      "Epoch 48/100\n",
      "400/400 [==============================] - 0s 203us/step - loss: 0.3201 - acc: 0.8675\n",
      "Epoch 49/100\n",
      "400/400 [==============================] - 0s 208us/step - loss: 0.3180 - acc: 0.8625\n",
      "Epoch 50/100\n",
      "400/400 [==============================] - 0s 205us/step - loss: 0.3478 - acc: 0.8500\n",
      "Epoch 51/100\n",
      "400/400 [==============================] - 0s 210us/step - loss: 0.3199 - acc: 0.8725\n",
      "Epoch 52/100\n",
      "400/400 [==============================] - 0s 205us/step - loss: 0.3328 - acc: 0.8550\n",
      "Epoch 53/100\n",
      "400/400 [==============================] - 0s 216us/step - loss: 0.3190 - acc: 0.8650\n",
      "Epoch 54/100\n",
      "400/400 [==============================] - 0s 210us/step - loss: 0.3227 - acc: 0.8575\n",
      "Epoch 55/100\n",
      "400/400 [==============================] - 0s 231us/step - loss: 0.3289 - acc: 0.8600\n",
      "Epoch 56/100\n",
      "400/400 [==============================] - 0s 215us/step - loss: 0.3181 - acc: 0.8625\n",
      "Epoch 57/100\n",
      "400/400 [==============================] - 0s 216us/step - loss: 0.3122 - acc: 0.8650\n",
      "Epoch 58/100\n",
      "400/400 [==============================] - 0s 206us/step - loss: 0.3184 - acc: 0.8525\n",
      "Epoch 59/100\n",
      "400/400 [==============================] - 0s 212us/step - loss: 0.3216 - acc: 0.8550\n",
      "Epoch 60/100\n",
      "400/400 [==============================] - 0s 202us/step - loss: 0.3384 - acc: 0.8450\n",
      "Epoch 61/100\n",
      "400/400 [==============================] - 0s 210us/step - loss: 0.3130 - acc: 0.8650\n",
      "Epoch 62/100\n",
      "400/400 [==============================] - 0s 205us/step - loss: 0.3603 - acc: 0.8525\n",
      "Epoch 63/100\n",
      "400/400 [==============================] - 0s 205us/step - loss: 0.3269 - acc: 0.8625\n",
      "Epoch 64/100\n",
      "400/400 [==============================] - 0s 208us/step - loss: 0.3147 - acc: 0.8575\n",
      "Epoch 65/100\n",
      "400/400 [==============================] - 0s 202us/step - loss: 0.3114 - acc: 0.8575\n",
      "Epoch 66/100\n",
      "400/400 [==============================] - 0s 207us/step - loss: 0.3669 - acc: 0.8325\n",
      "Epoch 67/100\n",
      "400/400 [==============================] - 0s 204us/step - loss: 0.3180 - acc: 0.8550\n",
      "Epoch 68/100\n",
      "400/400 [==============================] - 0s 205us/step - loss: 0.3194 - acc: 0.8475\n",
      "Epoch 69/100\n",
      "400/400 [==============================] - 0s 209us/step - loss: 0.3274 - acc: 0.8650\n",
      "Epoch 70/100\n",
      "400/400 [==============================] - 0s 221us/step - loss: 0.3094 - acc: 0.8650\n",
      "Epoch 71/100\n",
      "400/400 [==============================] - 0s 208us/step - loss: 0.3224 - acc: 0.8725\n",
      "Epoch 72/100\n",
      "400/400 [==============================] - 0s 208us/step - loss: 0.3280 - acc: 0.8550\n",
      "Epoch 73/100\n",
      "400/400 [==============================] - 0s 209us/step - loss: 0.3092 - acc: 0.8800\n",
      "Epoch 74/100\n",
      "400/400 [==============================] - 0s 209us/step - loss: 0.3268 - acc: 0.8525\n",
      "Epoch 75/100\n",
      "400/400 [==============================] - 0s 209us/step - loss: 0.3074 - acc: 0.8725\n",
      "Epoch 76/100\n",
      "400/400 [==============================] - 0s 211us/step - loss: 0.3382 - acc: 0.8675\n",
      "Epoch 77/100\n",
      "400/400 [==============================] - 0s 215us/step - loss: 0.3293 - acc: 0.8450\n",
      "Epoch 78/100\n",
      "400/400 [==============================] - 0s 211us/step - loss: 0.3184 - acc: 0.8550\n",
      "Epoch 79/100\n",
      "400/400 [==============================] - 0s 209us/step - loss: 0.3108 - acc: 0.8725\n",
      "Epoch 80/100\n",
      "400/400 [==============================] - 0s 205us/step - loss: 0.2983 - acc: 0.8675\n",
      "Epoch 81/100\n",
      "400/400 [==============================] - 0s 211us/step - loss: 0.3093 - acc: 0.8800\n",
      "Epoch 82/100\n",
      "400/400 [==============================] - 0s 210us/step - loss: 0.3089 - acc: 0.8775\n",
      "Epoch 83/100\n",
      "400/400 [==============================] - 0s 206us/step - loss: 0.3065 - acc: 0.8600\n",
      "Epoch 84/100\n",
      "400/400 [==============================] - 0s 205us/step - loss: 0.3352 - acc: 0.8575\n",
      "Epoch 85/100\n",
      "400/400 [==============================] - 0s 205us/step - loss: 0.3175 - acc: 0.8600\n",
      "Epoch 86/100\n",
      "400/400 [==============================] - 0s 207us/step - loss: 0.3012 - acc: 0.8675\n",
      "Epoch 87/100\n",
      "400/400 [==============================] - 0s 206us/step - loss: 0.3075 - acc: 0.8600\n",
      "Epoch 88/100\n",
      "400/400 [==============================] - 0s 205us/step - loss: 0.3078 - acc: 0.8825\n",
      "Epoch 89/100\n",
      "400/400 [==============================] - 0s 211us/step - loss: 0.3100 - acc: 0.8800\n",
      "Epoch 90/100\n",
      "400/400 [==============================] - 0s 206us/step - loss: 0.3128 - acc: 0.8650\n",
      "Epoch 91/100\n",
      "400/400 [==============================] - 0s 208us/step - loss: 0.3095 - acc: 0.8675\n",
      "Epoch 92/100\n",
      "400/400 [==============================] - 0s 205us/step - loss: 0.3008 - acc: 0.8700\n",
      "Epoch 93/100\n",
      "400/400 [==============================] - 0s 203us/step - loss: 0.3295 - acc: 0.8800\n",
      "Epoch 94/100\n",
      "400/400 [==============================] - 0s 201us/step - loss: 0.3076 - acc: 0.8725\n",
      "Epoch 95/100\n",
      "400/400 [==============================] - 0s 204us/step - loss: 0.3021 - acc: 0.8775\n",
      "Epoch 96/100\n",
      "400/400 [==============================] - 0s 209us/step - loss: 0.2898 - acc: 0.8850\n",
      "Epoch 97/100\n",
      "400/400 [==============================] - 0s 205us/step - loss: 0.3160 - acc: 0.8775\n",
      "Epoch 98/100\n",
      "400/400 [==============================] - 0s 203us/step - loss: 0.3312 - acc: 0.8625\n",
      "Epoch 99/100\n",
      "400/400 [==============================] - 0s 212us/step - loss: 0.3066 - acc: 0.8650\n",
      "Epoch 100/100\n",
      "400/400 [==============================] - 0s 217us/step - loss: 0.3160 - acc: 0.8600\n"
     ]
    },
    {
     "data": {
      "text/plain": [
       "<keras.callbacks.History at 0x7f89a7deda90>"
      ]
     },
     "execution_count": 34,
     "metadata": {},
     "output_type": "execute_result"
    }
   ],
   "source": [
    "model_ann = Sequential()\n",
    "# Input Layer and First Hidden Layer\n",
    "model_ann.add(Dense(output_dim = 6,init = 'uniform',activation = 'relu',input_dim = 7))\n",
    "\n",
    "#Second Hidden Layer\n",
    "model_ann.add(Dense(output_dim = 6,init = 'uniform',activation = 'relu'))\n",
    "\n",
    "#Final Layer\n",
    "model_ann.add(Dense(output_dim = 1,init = 'uniform',activation = 'sigmoid'))\n",
    "\n",
    "#Compiling ANN\n",
    "model_ann.compile(optimizer = 'adam', loss = 'binary_crossentropy',metrics = ['accuracy'])\n",
    "\n",
    "model_ann.fit(train_X,train_Y,batch_size = 5,nb_epoch = 100)\n"
   ]
  },
  {
   "cell_type": "markdown",
   "metadata": {
    "_uuid": "5e1ead78c29e2b93fe3a4034e43d1723382cc5f8"
   },
   "source": [
    "### ***Predicting the Outcome***"
   ]
  },
  {
   "cell_type": "code",
   "execution_count": 35,
   "metadata": {
    "_uuid": "5ec389da1b376eeccbc8f39106e1de87276cdbcc"
   },
   "outputs": [],
   "source": [
    "pred_ann = model_ann.predict(test_X)\n",
    "pred_ann = (pred_ann > 0.5)"
   ]
  },
  {
   "cell_type": "markdown",
   "metadata": {
    "_uuid": "cc682e38121f3a2cd0f8121365474f3ae722c0dc"
   },
   "source": [
    "### ***Checking for Accuracy***"
   ]
  },
  {
   "cell_type": "code",
   "execution_count": 36,
   "metadata": {
    "_uuid": "91cb8bd08ebb97d8608e7b5a977d1f692b14ec21"
   },
   "outputs": [
    {
     "name": "stdout",
     "output_type": "stream",
     "text": [
      "Precision Score :  0.875\n",
      "Recall Score :  0.75\n",
      "Classification Report: \n",
      "              precision    recall  f1-score   support\n",
      "\n",
      "           0       0.91      0.96      0.93        72\n",
      "           1       0.88      0.75      0.81        28\n",
      "\n",
      "   micro avg       0.90      0.90      0.90       100\n",
      "   macro avg       0.89      0.85      0.87       100\n",
      "weighted avg       0.90      0.90      0.90       100\n",
      "\n",
      "Accuracy for Test:  0.9\n",
      "Accuracy for Train:  0.875\n"
     ]
    },
    {
     "data": {
      "image/png": "[encoded data removed]",
      "text/plain": [
       "<Figure size 720x720 with 2 Axes>"
      ]
     },
     "metadata": {},
     "output_type": "display_data"
    },
    {
     "data": {
      "image/png": "[encoded data removed]",
      "text/plain": [
       "<Figure size 720x720 with 1 Axes>"
      ]
     },
     "metadata": {},
     "output_type": "display_data"
    }
   ],
   "source": [
    "#Precision\n",
    "print(\"Precision Score : \",precision_score(test_Y,pred_ann))\n",
    "\n",
    "#Recall\n",
    "print(\"Recall Score : \",recall_score(test_Y,pred_ann))\n",
    "\n",
    "#Confusion Matrix\n",
    "cm_ann = confusion_matrix(test_Y,pred_ann)\n",
    "\n",
    "#Classification Report\n",
    "print(\"Classification Report: \")\n",
    "print(classification_report(test_Y,pred_ann))\n",
    "#Accuracy\n",
    "print(\"Accuracy for Test: \",(cm_ann[0,0] + cm_ann[1,1])/\n",
    "      (cm_ann[0,0] + cm_ann[1,1] + cm_ann[0,1] + cm_ann[1,0]))\n",
    "\n",
    "plt.rcParams['figure.figsize'] = 10,10\n",
    "sns.heatmap(cm_ann,annot = True)\n",
    "plt.title('Test Dataset')\n",
    "plt.ylabel('Actual')\n",
    "plt.xlabel('Predicted')\n",
    "\n",
    "pred_ann_train = model_ann.predict(train_X)\n",
    "cm = confusion_matrix(train_Y,pred_ann_train > 0.5)\n",
    "print(\"Accuracy for Train: \",(cm[0,0] + cm[1,1])/(cm[0,0] + cm[1,1] + cm[0,1] + cm[1,0]))\n",
    "\n",
    "#ROC Curve\n",
    "plt.figure()\n",
    "plt.rcParams['figure.figsize'] = 7,7\n",
    "fpr,tpr,threshold = roc_curve(test_Y,pred_ann)\n",
    "plt.plot([0, 1], [0, 1], linestyle='--')\n",
    "plt.plot(fpr, tpr, marker='.')\n",
    "plt.xlabel('FPR',fontsize = 20)\n",
    "plt.ylabel('TPR',fontsize = 20)\n",
    "plt.title('ROC Curve',fontsize = 20)\n",
    "plt.show()"
   ]
  },
  {
   "cell_type": "markdown",
   "metadata": {
    "_uuid": "825dc5c1b872138ced26f8b1db019a7a18d90005"
   },
   "source": [
    "## **XGBoost Classifier**"
   ]
  },
  {
   "cell_type": "markdown",
   "metadata": {
    "_uuid": "35ab56ca8130b8cd879bfbfa5e5638d34203ca2e"
   },
   "source": [
    "### ***Training the Dataset***"
   ]
  },
  {
   "cell_type": "code",
   "execution_count": 37,
   "metadata": {
    "_uuid": "c0fa1c1d2d2d6a6b1e71520d488c71dacc4cab3e"
   },
   "outputs": [
    {
     "data": {
      "text/plain": [
       "XGBClassifier(base_score=0.5, booster='gbtree', colsample_bylevel=1,\n",
       "       colsample_bytree=1, gamma=0, learning_rate=0.05, max_delta_step=0,\n",
       "       max_depth=5, min_child_weight=1, missing=None, n_estimators=500,\n",
       "       n_jobs=1, nthread=-1, objective='binary:logistic', random_state=0,\n",
       "       reg_alpha=0, reg_lambda=1, scale_pos_weight=1, seed=None,\n",
       "       silent=True, subsample=1)"
      ]
     },
     "execution_count": 37,
     "metadata": {},
     "output_type": "execute_result"
    }
   ],
   "source": [
    "model_xgb = XGBClassifier(max_depth = 5,learning_rate = 0.05,n_estimators = 500,nthread = -1)\n",
    "model_xgb.fit(train_X,train_Y)"
   ]
  },
  {
   "cell_type": "markdown",
   "metadata": {
    "_uuid": "5b2ff6281fa071d33b395c4f84caec2fa5b69f7c"
   },
   "source": [
    "### ***Predicting the Outcome***"
   ]
  },
  {
   "cell_type": "code",
   "execution_count": 38,
   "metadata": {
    "_uuid": "eaa7f5bf533e28d918d6a53e2d4ebb3be62fdfb3"
   },
   "outputs": [],
   "source": [
    "pred_xgb = model_xgb.predict(test_X)"
   ]
  },
  {
   "cell_type": "markdown",
   "metadata": {
    "_uuid": "54518c0b996636b8bbcfa533a5ff52f9fd315bf2"
   },
   "source": [
    "### ***Checking for Accuracy***"
   ]
  },
  {
   "cell_type": "code",
   "execution_count": 39,
   "metadata": {
    "_uuid": "1a0c7e0ab8347dca736ea7858887f7f2d74d9363"
   },
   "outputs": [
    {
     "name": "stdout",
     "output_type": "stream",
     "text": [
      "Precision Score :  0.7714285714285715\n",
      "Recall Score :  0.9642857142857143\n",
      "Classification Report: \n",
      "              precision    recall  f1-score   support\n",
      "\n",
      "           0       0.98      0.89      0.93        72\n",
      "           1       0.77      0.96      0.86        28\n",
      "\n",
      "   micro avg       0.91      0.91      0.91       100\n",
      "   macro avg       0.88      0.93      0.90       100\n",
      "weighted avg       0.92      0.91      0.91       100\n",
      "\n",
      "Accuracy for Test:  0.91\n",
      "Accuracy for Train:  0.9975\n"
     ]
    },
    {
     "data": {
      "image/png": "[encoded data removed]",
      "text/plain": [
       "<Figure size 720x720 with 2 Axes>"
      ]
     },
     "metadata": {},
     "output_type": "display_data"
    },
    {
     "data": {
      "image/png": "[encoded data removed]",
      "text/plain": [
       "<Figure size 720x720 with 1 Axes>"
      ]
     },
     "metadata": {},
     "output_type": "display_data"
    }
   ],
   "source": [
    "#Precision\n",
    "print(\"Precision Score : \",precision_score(test_Y,pred_xgb))\n",
    "\n",
    "#Recall\n",
    "print(\"Recall Score : \",recall_score(test_Y,pred_xgb))\n",
    "\n",
    "#Confusion Matrix\n",
    "cm_xgb = confusion_matrix(test_Y,pred_xgb)\n",
    "\n",
    "#Classification Report\n",
    "print(\"Classification Report: \")\n",
    "print(classification_report(test_Y,pred_xgb))\n",
    "#Accuracy\n",
    "print(\"Accuracy for Test: \",(cm_xgb[0,0] + cm_xgb[1,1])/\n",
    "      (cm_xgb[0,0] + cm_xgb[1,1] + cm_xgb[0,1] + cm_xgb[1,0]))\n",
    "\n",
    "plt.rcParams['figure.figsize'] = 10,10\n",
    "sns.heatmap(cm_xgb,annot = True)\n",
    "plt.title('Test Dataset')\n",
    "plt.ylabel('Actual')\n",
    "plt.xlabel('Predicted')\n",
    "\n",
    "pred_xgb_train = model_xgb.predict(train_X)\n",
    "cm = confusion_matrix(train_Y,pred_xgb_train > 0.5)\n",
    "print(\"Accuracy for Train: \",(cm[0,0] + cm[1,1])/(cm[0,0] + cm[1,1] + cm[0,1] + cm[1,0]))\n",
    "\n",
    "#ROC Curve\n",
    "plt.figure()\n",
    "plt.rcParams['figure.figsize'] = 7,7\n",
    "fpr,tpr,threshold = roc_curve(test_Y,pred_xgb)\n",
    "plt.plot([0, 1], [0, 1], linestyle='--')\n",
    "plt.plot(fpr, tpr, marker='.')\n",
    "plt.xlabel('FPR',fontsize = 20)\n",
    "plt.ylabel('TPR',fontsize = 20)\n",
    "plt.title('ROC Curve',fontsize = 20)\n",
    "plt.show()"
   ]
  },
  {
   "cell_type": "markdown",
   "metadata": {
    "_uuid": "cb9eacf67c699d8fc96fbd72228ad45709bd69d3"
   },
   "source": [
    "This sums up all the model that i wanted to train. Now lets look at thei performance\n"
   ]
  },
  {
   "cell_type": "code",
   "execution_count": 40,
   "metadata": {
    "_uuid": "fe955ca3f64875244e162d86e6ea9ea36bd7c42f"
   },
   "outputs": [
    {
     "data": {
      "text/html": [
       "<div>\n",
       "<style scoped>\n",
       "    .dataframe tbody tr th:only-of-type {\n",
       "        vertical-align: middle;\n",
       "    }\n",
       "\n",
       "    .dataframe tbody tr th {\n",
       "        vertical-align: top;\n",
       "    }\n",
       "\n",
       "    .dataframe thead th {\n",
       "        text-align: right;\n",
       "    }\n",
       "</style>\n",
       "<table border=\"1\" class=\"dataframe\">\n",
       "  <thead>\n",
       "    <tr style=\"text-align: right;\">\n",
       "      <th></th>\n",
       "      <th>Precision</th>\n",
       "      <th>Recall</th>\n",
       "      <th>Accuracy</th>\n",
       "    </tr>\n",
       "  </thead>\n",
       "  <tbody>\n",
       "    <tr>\n",
       "      <th>SupportVectorClassifier(Gaussian)</th>\n",
       "      <td>0.843750</td>\n",
       "      <td>0.964286</td>\n",
       "      <td>0.94</td>\n",
       "    </tr>\n",
       "    <tr>\n",
       "      <th>DecisionTree</th>\n",
       "      <td>0.818182</td>\n",
       "      <td>0.964286</td>\n",
       "      <td>0.93</td>\n",
       "    </tr>\n",
       "    <tr>\n",
       "      <th>SupportVectorClassifier(Linear)</th>\n",
       "      <td>0.833333</td>\n",
       "      <td>0.892857</td>\n",
       "      <td>0.92</td>\n",
       "    </tr>\n",
       "    <tr>\n",
       "      <th>LogisticRegression</th>\n",
       "      <td>0.827586</td>\n",
       "      <td>0.857143</td>\n",
       "      <td>0.91</td>\n",
       "    </tr>\n",
       "    <tr>\n",
       "      <th>RandomForest</th>\n",
       "      <td>0.787879</td>\n",
       "      <td>0.928571</td>\n",
       "      <td>0.91</td>\n",
       "    </tr>\n",
       "    <tr>\n",
       "      <th>XGBoost</th>\n",
       "      <td>0.771429</td>\n",
       "      <td>0.964286</td>\n",
       "      <td>0.91</td>\n",
       "    </tr>\n",
       "    <tr>\n",
       "      <th>AritficialNeuralNetwork</th>\n",
       "      <td>0.875000</td>\n",
       "      <td>0.750000</td>\n",
       "      <td>0.90</td>\n",
       "    </tr>\n",
       "    <tr>\n",
       "      <th>NaiveBayes</th>\n",
       "      <td>0.742857</td>\n",
       "      <td>0.928571</td>\n",
       "      <td>0.89</td>\n",
       "    </tr>\n",
       "    <tr>\n",
       "      <th>KNearestNeighbors</th>\n",
       "      <td>0.742857</td>\n",
       "      <td>0.928571</td>\n",
       "      <td>0.89</td>\n",
       "    </tr>\n",
       "    <tr>\n",
       "      <th>PrincipalComponent</th>\n",
       "      <td>0.694444</td>\n",
       "      <td>0.892857</td>\n",
       "      <td>0.86</td>\n",
       "    </tr>\n",
       "  </tbody>\n",
       "</table>\n",
       "</div>"
      ],
      "text/plain": [
       "                                   Precision    Recall  Accuracy\n",
       "SupportVectorClassifier(Gaussian)   0.843750  0.964286      0.94\n",
       "DecisionTree                        0.818182  0.964286      0.93\n",
       "SupportVectorClassifier(Linear)     0.833333  0.892857      0.92\n",
       "LogisticRegression                  0.827586  0.857143      0.91\n",
       "RandomForest                        0.787879  0.928571      0.91\n",
       "XGBoost                             0.771429  0.964286      0.91\n",
       "AritficialNeuralNetwork             0.875000  0.750000      0.90\n",
       "NaiveBayes                          0.742857  0.928571      0.89\n",
       "KNearestNeighbors                   0.742857  0.928571      0.89\n",
       "PrincipalComponent                  0.694444  0.892857      0.86"
      ]
     },
     "execution_count": 40,
     "metadata": {},
     "output_type": "execute_result"
    }
   ],
   "source": [
    "index = ['LogisticRegression','SupportVectorClassifier(Linear)','SupportVectorClassifier(Gaussian)',\n",
    "        'DecisionTree','RandomForest','PrincipalComponent','NaiveBayes','KNearestNeighbors',\n",
    "        'AritficialNeuralNetwork','XGBoost']\n",
    "\n",
    "data = [[precision_score(test_Y,pred_logistic),recall_score(test_Y,pred_logistic),\n",
    "         (cm_logistic[0,0] + cm_logistic[1,1])/(cm_logistic[0,0]+cm_logistic[0,1]+cm_logistic[1,0]+cm_logistic[1,1])],\n",
    "        [precision_score(test_Y,pred_svc_linear),recall_score(test_Y,pred_svc_linear),\n",
    "         (cm_svc_linear[0,0] + cm_svc_linear[1,1])/(cm_svc_linear[0,0]+cm_svc_linear[0,1]+cm_svc_linear[1,0]+cm_svc_linear[1,1])],\n",
    "        [precision_score(test_Y,pred_svc_rbf),recall_score(test_Y,pred_svc_rbf),\n",
    "         (cm_svc_rbf[0,0] + cm_svc_rbf[1,1])/(cm_svc_rbf[0,0]+cm_svc_rbf[0,1]+cm_svc_rbf[1,0]+cm_svc_rbf[1,1])],\n",
    "        [precision_score(test_Y,pred_dtree),recall_score(test_Y,pred_dtree),\n",
    "         (cm_dtree[0,0] + cm_dtree[1,1])/(cm_dtree[0,0]+cm_dtree[0,1]+cm_dtree[1,0]+cm_dtree[1,1])],\n",
    "        [precision_score(test_Y,pred_rforest),recall_score(test_Y,pred_rforest),\n",
    "         (cm_rforest[0,0] + cm_rforest[1,1])/(cm_rforest[0,0]+cm_rforest[0,1]+cm_rforest[1,0]+cm_rforest[1,1])],\n",
    "        [precision_score(test_Y,pred_pca),recall_score(test_Y,pred_pca),\n",
    "         (cm_pca[0,0] + cm_pca[1,1])/(cm_pca[0,0]+cm_pca[0,1]+cm_pca[1,0]+cm_pca[1,1])],\n",
    "        [precision_score(test_Y,pred_nb),recall_score(test_Y,pred_nb),\n",
    "         (cm_nb[0,0] + cm_nb[1,1])/(cm_nb[0,0]+cm_nb[0,1]+cm_nb[1,0]+cm_nb[1,1])],\n",
    "        [precision_score(test_Y,pred_knn),recall_score(test_Y,pred_knn),\n",
    "         (cm_knn[0,0] + cm_knn[1,1])/(cm_knn[0,0]+cm_knn[0,1]+cm_knn[1,0]+cm_knn[1,1])],\n",
    "        [precision_score(test_Y,pred_ann),recall_score(test_Y,pred_ann),\n",
    "         (cm_ann[0,0] + cm_ann[1,1])/(cm_ann[0,0]+cm_ann[0,1]+cm_ann[1,0]+cm_ann[1,1])],\n",
    "        [precision_score(test_Y,pred_xgb),recall_score(test_Y,pred_xgb),\n",
    "         (cm_xgb[0,0] + cm_xgb[1,1])/(cm_xgb[0,0]+cm_xgb[0,1]+cm_xgb[1,0]+cm_xgb[1,1])]]\n",
    "\n",
    "accuracy = pd.DataFrame(data = data,index = index,columns = ['Precision','Recall','Accuracy'])\n",
    "accuracy.sort_values(by = ['Accuracy','Precision','Recall'],ascending = False)"
   ]
  }
 ],
 "metadata": {
  "kernelspec": {
   "display_name": "Python 3",
   "language": "python",
   "name": "python3"
  },
  "language_info": {
   "codemirror_mode": {
    "name": "ipython",
    "version": 3
   },
   "file_extension": ".py",
   "mimetype": "text/x-python",
   "name": "python",
   "nbconvert_exporter": "python",
   "pygments_lexer": "ipython3",
   "version": "3.6.6"
  }
 },
 "nbformat": 4,
 "nbformat_minor": 1
}
